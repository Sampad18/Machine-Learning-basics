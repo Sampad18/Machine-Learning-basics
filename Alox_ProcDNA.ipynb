{
 "cells": [
  {
   "cell_type": "code",
   "execution_count": 1,
   "id": "b684831e",
   "metadata": {},
   "outputs": [],
   "source": [
    "import pandas as pd\n",
    "import numpy as np"
   ]
  },
  {
   "cell_type": "code",
   "execution_count": 5,
   "id": "a415f8fb",
   "metadata": {},
   "outputs": [],
   "source": [
    "df = pd.read_excel(\"D:\\ProcDNA\\Alox Pharma Case Study data v1.0.xlsx\")"
   ]
  },
  {
   "cell_type": "code",
   "execution_count": 6,
   "id": "cc3e0e67",
   "metadata": {},
   "outputs": [
    {
     "data": {
      "text/html": [
       "<div>\n",
       "<style scoped>\n",
       "    .dataframe tbody tr th:only-of-type {\n",
       "        vertical-align: middle;\n",
       "    }\n",
       "\n",
       "    .dataframe tbody tr th {\n",
       "        vertical-align: top;\n",
       "    }\n",
       "\n",
       "    .dataframe thead th {\n",
       "        text-align: right;\n",
       "    }\n",
       "</style>\n",
       "<table border=\"1\" class=\"dataframe\">\n",
       "  <thead>\n",
       "    <tr style=\"text-align: right;\">\n",
       "      <th></th>\n",
       "      <th>Unnamed: 0</th>\n",
       "      <th>Physician ID</th>\n",
       "      <th>Patient Id</th>\n",
       "      <th>Patient Gender</th>\n",
       "      <th>Age</th>\n",
       "      <th>Indication (Diagnosed for)</th>\n",
       "      <th>Diagnosed Date</th>\n",
       "      <th>Treated Date</th>\n",
       "      <th>Drug Prescribed</th>\n",
       "    </tr>\n",
       "  </thead>\n",
       "  <tbody>\n",
       "    <tr>\n",
       "      <th>0</th>\n",
       "      <td>NaN</td>\n",
       "      <td>51</td>\n",
       "      <td>1</td>\n",
       "      <td>Male</td>\n",
       "      <td>66</td>\n",
       "      <td>CLL</td>\n",
       "      <td>2018-07-22</td>\n",
       "      <td>NaT</td>\n",
       "      <td>NaN</td>\n",
       "    </tr>\n",
       "    <tr>\n",
       "      <th>1</th>\n",
       "      <td>NaN</td>\n",
       "      <td>3200</td>\n",
       "      <td>2</td>\n",
       "      <td>Male</td>\n",
       "      <td>43</td>\n",
       "      <td>CLL</td>\n",
       "      <td>2019-04-11</td>\n",
       "      <td>NaT</td>\n",
       "      <td>NaN</td>\n",
       "    </tr>\n",
       "    <tr>\n",
       "      <th>2</th>\n",
       "      <td>NaN</td>\n",
       "      <td>2658</td>\n",
       "      <td>3</td>\n",
       "      <td>Male</td>\n",
       "      <td>66</td>\n",
       "      <td>MCL</td>\n",
       "      <td>2018-08-30</td>\n",
       "      <td>NaT</td>\n",
       "      <td>NaN</td>\n",
       "    </tr>\n",
       "    <tr>\n",
       "      <th>3</th>\n",
       "      <td>NaN</td>\n",
       "      <td>3201</td>\n",
       "      <td>4</td>\n",
       "      <td>Male</td>\n",
       "      <td>61</td>\n",
       "      <td>CLL</td>\n",
       "      <td>2018-01-06</td>\n",
       "      <td>NaT</td>\n",
       "      <td>NaN</td>\n",
       "    </tr>\n",
       "    <tr>\n",
       "      <th>4</th>\n",
       "      <td>NaN</td>\n",
       "      <td>3202</td>\n",
       "      <td>5</td>\n",
       "      <td>Female</td>\n",
       "      <td>52</td>\n",
       "      <td>MCL</td>\n",
       "      <td>2019-03-05</td>\n",
       "      <td>NaT</td>\n",
       "      <td>NaN</td>\n",
       "    </tr>\n",
       "    <tr>\n",
       "      <th>5</th>\n",
       "      <td>NaN</td>\n",
       "      <td>3203</td>\n",
       "      <td>6</td>\n",
       "      <td>Male</td>\n",
       "      <td>45</td>\n",
       "      <td>WM</td>\n",
       "      <td>2019-09-15</td>\n",
       "      <td>NaT</td>\n",
       "      <td>NaN</td>\n",
       "    </tr>\n",
       "    <tr>\n",
       "      <th>6</th>\n",
       "      <td>NaN</td>\n",
       "      <td>1499</td>\n",
       "      <td>7</td>\n",
       "      <td>Female</td>\n",
       "      <td>57</td>\n",
       "      <td>CLL</td>\n",
       "      <td>2018-01-31</td>\n",
       "      <td>NaT</td>\n",
       "      <td>NaN</td>\n",
       "    </tr>\n",
       "    <tr>\n",
       "      <th>7</th>\n",
       "      <td>NaN</td>\n",
       "      <td>3204</td>\n",
       "      <td>8</td>\n",
       "      <td>Female</td>\n",
       "      <td>52</td>\n",
       "      <td>WM</td>\n",
       "      <td>2018-12-10</td>\n",
       "      <td>NaT</td>\n",
       "      <td>NaN</td>\n",
       "    </tr>\n",
       "    <tr>\n",
       "      <th>8</th>\n",
       "      <td>NaN</td>\n",
       "      <td>3205</td>\n",
       "      <td>9</td>\n",
       "      <td>Male</td>\n",
       "      <td>63</td>\n",
       "      <td>CLL</td>\n",
       "      <td>2018-06-08</td>\n",
       "      <td>NaT</td>\n",
       "      <td>NaN</td>\n",
       "    </tr>\n",
       "    <tr>\n",
       "      <th>9</th>\n",
       "      <td>NaN</td>\n",
       "      <td>2848</td>\n",
       "      <td>10</td>\n",
       "      <td>Male</td>\n",
       "      <td>54</td>\n",
       "      <td>CLL</td>\n",
       "      <td>2018-05-22</td>\n",
       "      <td>NaT</td>\n",
       "      <td>NaN</td>\n",
       "    </tr>\n",
       "  </tbody>\n",
       "</table>\n",
       "</div>"
      ],
      "text/plain": [
       "   Unnamed: 0  Physician ID  Patient Id Patient Gender  Age   \\\n",
       "0         NaN            51           1           Male    66   \n",
       "1         NaN          3200           2           Male    43   \n",
       "2         NaN          2658           3           Male    66   \n",
       "3         NaN          3201           4           Male    61   \n",
       "4         NaN          3202           5         Female    52   \n",
       "5         NaN          3203           6           Male    45   \n",
       "6         NaN          1499           7         Female    57   \n",
       "7         NaN          3204           8         Female    52   \n",
       "8         NaN          3205           9           Male    63   \n",
       "9         NaN          2848          10           Male    54   \n",
       "\n",
       "  Indication (Diagnosed for) Diagnosed Date Treated Date Drug Prescribed  \n",
       "0                        CLL     2018-07-22          NaT             NaN  \n",
       "1                        CLL     2019-04-11          NaT             NaN  \n",
       "2                        MCL     2018-08-30          NaT             NaN  \n",
       "3                        CLL     2018-01-06          NaT             NaN  \n",
       "4                        MCL     2019-03-05          NaT             NaN  \n",
       "5                         WM     2019-09-15          NaT             NaN  \n",
       "6                        CLL     2018-01-31          NaT             NaN  \n",
       "7                         WM     2018-12-10          NaT             NaN  \n",
       "8                        CLL     2018-06-08          NaT             NaN  \n",
       "9                        CLL     2018-05-22          NaT             NaN  "
      ]
     },
     "execution_count": 6,
     "metadata": {},
     "output_type": "execute_result"
    }
   ],
   "source": [
    "df.head(10)"
   ]
  },
  {
   "cell_type": "code",
   "execution_count": 10,
   "id": "12f6e852",
   "metadata": {},
   "outputs": [
    {
     "data": {
      "text/html": [
       "<div>\n",
       "<style scoped>\n",
       "    .dataframe tbody tr th:only-of-type {\n",
       "        vertical-align: middle;\n",
       "    }\n",
       "\n",
       "    .dataframe tbody tr th {\n",
       "        vertical-align: top;\n",
       "    }\n",
       "\n",
       "    .dataframe thead th {\n",
       "        text-align: right;\n",
       "    }\n",
       "</style>\n",
       "<table border=\"1\" class=\"dataframe\">\n",
       "  <thead>\n",
       "    <tr style=\"text-align: right;\">\n",
       "      <th></th>\n",
       "      <th>Physician ID</th>\n",
       "      <th>Patient Id</th>\n",
       "      <th>Patient Gender</th>\n",
       "      <th>Age</th>\n",
       "      <th>Indication (Diagnosed for)</th>\n",
       "      <th>Diagnosed Date</th>\n",
       "      <th>Treated Date</th>\n",
       "      <th>Drug Prescribed</th>\n",
       "    </tr>\n",
       "  </thead>\n",
       "  <tbody>\n",
       "    <tr>\n",
       "      <th>0</th>\n",
       "      <td>51</td>\n",
       "      <td>1</td>\n",
       "      <td>Male</td>\n",
       "      <td>66</td>\n",
       "      <td>CLL</td>\n",
       "      <td>2018-07-22</td>\n",
       "      <td>NaT</td>\n",
       "      <td>NaN</td>\n",
       "    </tr>\n",
       "    <tr>\n",
       "      <th>1</th>\n",
       "      <td>3200</td>\n",
       "      <td>2</td>\n",
       "      <td>Male</td>\n",
       "      <td>43</td>\n",
       "      <td>CLL</td>\n",
       "      <td>2019-04-11</td>\n",
       "      <td>NaT</td>\n",
       "      <td>NaN</td>\n",
       "    </tr>\n",
       "    <tr>\n",
       "      <th>2</th>\n",
       "      <td>2658</td>\n",
       "      <td>3</td>\n",
       "      <td>Male</td>\n",
       "      <td>66</td>\n",
       "      <td>MCL</td>\n",
       "      <td>2018-08-30</td>\n",
       "      <td>NaT</td>\n",
       "      <td>NaN</td>\n",
       "    </tr>\n",
       "    <tr>\n",
       "      <th>3</th>\n",
       "      <td>3201</td>\n",
       "      <td>4</td>\n",
       "      <td>Male</td>\n",
       "      <td>61</td>\n",
       "      <td>CLL</td>\n",
       "      <td>2018-01-06</td>\n",
       "      <td>NaT</td>\n",
       "      <td>NaN</td>\n",
       "    </tr>\n",
       "    <tr>\n",
       "      <th>4</th>\n",
       "      <td>3202</td>\n",
       "      <td>5</td>\n",
       "      <td>Female</td>\n",
       "      <td>52</td>\n",
       "      <td>MCL</td>\n",
       "      <td>2019-03-05</td>\n",
       "      <td>NaT</td>\n",
       "      <td>NaN</td>\n",
       "    </tr>\n",
       "  </tbody>\n",
       "</table>\n",
       "</div>"
      ],
      "text/plain": [
       "   Physician ID  Patient Id Patient Gender  Age  Indication (Diagnosed for)  \\\n",
       "0            51           1           Male    66                        CLL   \n",
       "1          3200           2           Male    43                        CLL   \n",
       "2          2658           3           Male    66                        MCL   \n",
       "3          3201           4           Male    61                        CLL   \n",
       "4          3202           5         Female    52                        MCL   \n",
       "\n",
       "  Diagnosed Date Treated Date Drug Prescribed  \n",
       "0     2018-07-22          NaT             NaN  \n",
       "1     2019-04-11          NaT             NaN  \n",
       "2     2018-08-30          NaT             NaN  \n",
       "3     2018-01-06          NaT             NaN  \n",
       "4     2019-03-05          NaT             NaN  "
      ]
     },
     "execution_count": 10,
     "metadata": {},
     "output_type": "execute_result"
    }
   ],
   "source": [
    "df = df.drop(['Unnamed: 0'],axis=1)\n",
    "df.head()"
   ]
  },
  {
   "cell_type": "code",
   "execution_count": 9,
   "id": "a1b0ccc0",
   "metadata": {},
   "outputs": [
    {
     "data": {
      "text/html": [
       "<div>\n",
       "<style scoped>\n",
       "    .dataframe tbody tr th:only-of-type {\n",
       "        vertical-align: middle;\n",
       "    }\n",
       "\n",
       "    .dataframe tbody tr th {\n",
       "        vertical-align: top;\n",
       "    }\n",
       "\n",
       "    .dataframe thead th {\n",
       "        text-align: right;\n",
       "    }\n",
       "</style>\n",
       "<table border=\"1\" class=\"dataframe\">\n",
       "  <thead>\n",
       "    <tr style=\"text-align: right;\">\n",
       "      <th></th>\n",
       "      <th>Unnamed: 0</th>\n",
       "      <th>Physician ID</th>\n",
       "      <th>Patient Id</th>\n",
       "      <th>Patient Gender</th>\n",
       "      <th>Age</th>\n",
       "      <th>Indication (Diagnosed for)</th>\n",
       "      <th>Diagnosed Date</th>\n",
       "      <th>Treated Date</th>\n",
       "      <th>Drug Prescribed</th>\n",
       "    </tr>\n",
       "  </thead>\n",
       "  <tbody>\n",
       "    <tr>\n",
       "      <th>0</th>\n",
       "      <td>NaN</td>\n",
       "      <td>51</td>\n",
       "      <td>1</td>\n",
       "      <td>Male</td>\n",
       "      <td>66</td>\n",
       "      <td>CLL</td>\n",
       "      <td>2018-07-22</td>\n",
       "      <td>NaT</td>\n",
       "      <td>NaN</td>\n",
       "    </tr>\n",
       "    <tr>\n",
       "      <th>1</th>\n",
       "      <td>NaN</td>\n",
       "      <td>3200</td>\n",
       "      <td>2</td>\n",
       "      <td>Male</td>\n",
       "      <td>43</td>\n",
       "      <td>CLL</td>\n",
       "      <td>2019-04-11</td>\n",
       "      <td>NaT</td>\n",
       "      <td>NaN</td>\n",
       "    </tr>\n",
       "    <tr>\n",
       "      <th>2</th>\n",
       "      <td>NaN</td>\n",
       "      <td>2658</td>\n",
       "      <td>3</td>\n",
       "      <td>Male</td>\n",
       "      <td>66</td>\n",
       "      <td>MCL</td>\n",
       "      <td>2018-08-30</td>\n",
       "      <td>NaT</td>\n",
       "      <td>NaN</td>\n",
       "    </tr>\n",
       "    <tr>\n",
       "      <th>3</th>\n",
       "      <td>NaN</td>\n",
       "      <td>3201</td>\n",
       "      <td>4</td>\n",
       "      <td>Male</td>\n",
       "      <td>61</td>\n",
       "      <td>CLL</td>\n",
       "      <td>2018-01-06</td>\n",
       "      <td>NaT</td>\n",
       "      <td>NaN</td>\n",
       "    </tr>\n",
       "    <tr>\n",
       "      <th>4</th>\n",
       "      <td>NaN</td>\n",
       "      <td>3202</td>\n",
       "      <td>5</td>\n",
       "      <td>Female</td>\n",
       "      <td>52</td>\n",
       "      <td>MCL</td>\n",
       "      <td>2019-03-05</td>\n",
       "      <td>NaT</td>\n",
       "      <td>NaN</td>\n",
       "    </tr>\n",
       "  </tbody>\n",
       "</table>\n",
       "</div>"
      ],
      "text/plain": [
       "   Unnamed: 0  Physician ID  Patient Id Patient Gender  Age   \\\n",
       "0         NaN            51           1           Male    66   \n",
       "1         NaN          3200           2           Male    43   \n",
       "2         NaN          2658           3           Male    66   \n",
       "3         NaN          3201           4           Male    61   \n",
       "4         NaN          3202           5         Female    52   \n",
       "\n",
       "  Indication (Diagnosed for) Diagnosed Date Treated Date Drug Prescribed  \n",
       "0                        CLL     2018-07-22          NaT             NaN  \n",
       "1                        CLL     2019-04-11          NaT             NaN  \n",
       "2                        MCL     2018-08-30          NaT             NaN  \n",
       "3                        CLL     2018-01-06          NaT             NaN  \n",
       "4                        MCL     2019-03-05          NaT             NaN  "
      ]
     },
     "execution_count": 9,
     "metadata": {},
     "output_type": "execute_result"
    }
   ],
   "source": [
    "df.head()"
   ]
  },
  {
   "cell_type": "code",
   "execution_count": 11,
   "id": "3747f683",
   "metadata": {},
   "outputs": [
    {
     "name": "stdout",
     "output_type": "stream",
     "text": [
      "<class 'pandas.core.frame.DataFrame'>\n",
      "RangeIndex: 47010 entries, 0 to 47009\n",
      "Data columns (total 8 columns):\n",
      " #   Column                      Non-Null Count  Dtype         \n",
      "---  ------                      --------------  -----         \n",
      " 0   Physician ID                47010 non-null  int64         \n",
      " 1   Patient Id                  47010 non-null  int64         \n",
      " 2   Patient Gender              47010 non-null  object        \n",
      " 3   Age                         47010 non-null  int64         \n",
      " 4   Indication (Diagnosed for)  47010 non-null  object        \n",
      " 5   Diagnosed Date              47010 non-null  datetime64[ns]\n",
      " 6   Treated Date                36094 non-null  datetime64[ns]\n",
      " 7   Drug Prescribed             36094 non-null  object        \n",
      "dtypes: datetime64[ns](2), int64(3), object(3)\n",
      "memory usage: 2.9+ MB\n"
     ]
    }
   ],
   "source": [
    "df.info()"
   ]
  },
  {
   "cell_type": "code",
   "execution_count": 12,
   "id": "02c3fa01",
   "metadata": {},
   "outputs": [],
   "source": [
    "terr = pd.read_excel(\"D:\\ProcDNA\\Territory.xlsx\")"
   ]
  },
  {
   "cell_type": "code",
   "execution_count": 13,
   "id": "94663a7f",
   "metadata": {},
   "outputs": [
    {
     "data": {
      "text/html": [
       "<div>\n",
       "<style scoped>\n",
       "    .dataframe tbody tr th:only-of-type {\n",
       "        vertical-align: middle;\n",
       "    }\n",
       "\n",
       "    .dataframe tbody tr th {\n",
       "        vertical-align: top;\n",
       "    }\n",
       "\n",
       "    .dataframe thead th {\n",
       "        text-align: right;\n",
       "    }\n",
       "</style>\n",
       "<table border=\"1\" class=\"dataframe\">\n",
       "  <thead>\n",
       "    <tr style=\"text-align: right;\">\n",
       "      <th></th>\n",
       "      <th>Unnamed: 0</th>\n",
       "      <th>Physician ID</th>\n",
       "      <th>Territory</th>\n",
       "      <th>Area</th>\n",
       "    </tr>\n",
       "  </thead>\n",
       "  <tbody>\n",
       "    <tr>\n",
       "      <th>0</th>\n",
       "      <td>NaN</td>\n",
       "      <td>2</td>\n",
       "      <td>Buffalo, NY</td>\n",
       "      <td>Northeast</td>\n",
       "    </tr>\n",
       "    <tr>\n",
       "      <th>1</th>\n",
       "      <td>NaN</td>\n",
       "      <td>3</td>\n",
       "      <td>Los Angeles North, CA</td>\n",
       "      <td>Central</td>\n",
       "    </tr>\n",
       "    <tr>\n",
       "      <th>2</th>\n",
       "      <td>NaN</td>\n",
       "      <td>4</td>\n",
       "      <td>Denver, CO</td>\n",
       "      <td>North Central</td>\n",
       "    </tr>\n",
       "    <tr>\n",
       "      <th>3</th>\n",
       "      <td>NaN</td>\n",
       "      <td>8</td>\n",
       "      <td>New Jersey N</td>\n",
       "      <td>West</td>\n",
       "    </tr>\n",
       "    <tr>\n",
       "      <th>4</th>\n",
       "      <td>NaN</td>\n",
       "      <td>14</td>\n",
       "      <td>Buffalo, NY</td>\n",
       "      <td>Northeast</td>\n",
       "    </tr>\n",
       "  </tbody>\n",
       "</table>\n",
       "</div>"
      ],
      "text/plain": [
       "   Unnamed: 0  Physician ID              Territory           Area\n",
       "0         NaN             2            Buffalo, NY      Northeast\n",
       "1         NaN             3  Los Angeles North, CA        Central\n",
       "2         NaN             4             Denver, CO  North Central\n",
       "3         NaN             8           New Jersey N           West\n",
       "4         NaN            14            Buffalo, NY      Northeast"
      ]
     },
     "execution_count": 13,
     "metadata": {},
     "output_type": "execute_result"
    }
   ],
   "source": [
    "terr.head()"
   ]
  },
  {
   "cell_type": "code",
   "execution_count": 14,
   "id": "ecbc0226",
   "metadata": {},
   "outputs": [
    {
     "data": {
      "text/html": [
       "<div>\n",
       "<style scoped>\n",
       "    .dataframe tbody tr th:only-of-type {\n",
       "        vertical-align: middle;\n",
       "    }\n",
       "\n",
       "    .dataframe tbody tr th {\n",
       "        vertical-align: top;\n",
       "    }\n",
       "\n",
       "    .dataframe thead th {\n",
       "        text-align: right;\n",
       "    }\n",
       "</style>\n",
       "<table border=\"1\" class=\"dataframe\">\n",
       "  <thead>\n",
       "    <tr style=\"text-align: right;\">\n",
       "      <th></th>\n",
       "      <th>Physician ID</th>\n",
       "      <th>Territory</th>\n",
       "      <th>Area</th>\n",
       "    </tr>\n",
       "  </thead>\n",
       "  <tbody>\n",
       "    <tr>\n",
       "      <th>0</th>\n",
       "      <td>2</td>\n",
       "      <td>Buffalo, NY</td>\n",
       "      <td>Northeast</td>\n",
       "    </tr>\n",
       "    <tr>\n",
       "      <th>1</th>\n",
       "      <td>3</td>\n",
       "      <td>Los Angeles North, CA</td>\n",
       "      <td>Central</td>\n",
       "    </tr>\n",
       "    <tr>\n",
       "      <th>2</th>\n",
       "      <td>4</td>\n",
       "      <td>Denver, CO</td>\n",
       "      <td>North Central</td>\n",
       "    </tr>\n",
       "    <tr>\n",
       "      <th>3</th>\n",
       "      <td>8</td>\n",
       "      <td>New Jersey N</td>\n",
       "      <td>West</td>\n",
       "    </tr>\n",
       "    <tr>\n",
       "      <th>4</th>\n",
       "      <td>14</td>\n",
       "      <td>Buffalo, NY</td>\n",
       "      <td>Northeast</td>\n",
       "    </tr>\n",
       "  </tbody>\n",
       "</table>\n",
       "</div>"
      ],
      "text/plain": [
       "   Physician ID              Territory           Area\n",
       "0             2            Buffalo, NY      Northeast\n",
       "1             3  Los Angeles North, CA        Central\n",
       "2             4             Denver, CO  North Central\n",
       "3             8           New Jersey N           West\n",
       "4            14            Buffalo, NY      Northeast"
      ]
     },
     "execution_count": 14,
     "metadata": {},
     "output_type": "execute_result"
    }
   ],
   "source": [
    "terr = terr.drop([\"Unnamed: 0\"],axis = 1)\n",
    "terr.head()"
   ]
  },
  {
   "cell_type": "code",
   "execution_count": 15,
   "id": "c7d6a943",
   "metadata": {},
   "outputs": [
    {
     "name": "stdout",
     "output_type": "stream",
     "text": [
      "<class 'pandas.core.frame.DataFrame'>\n",
      "RangeIndex: 3102 entries, 0 to 3101\n",
      "Data columns (total 3 columns):\n",
      " #   Column        Non-Null Count  Dtype \n",
      "---  ------        --------------  ----- \n",
      " 0   Physician ID  3102 non-null   int64 \n",
      " 1   Territory     3102 non-null   object\n",
      " 2   Area          3102 non-null   object\n",
      "dtypes: int64(1), object(2)\n",
      "memory usage: 72.8+ KB\n"
     ]
    }
   ],
   "source": [
    "terr.info()"
   ]
  },
  {
   "cell_type": "code",
   "execution_count": 16,
   "id": "4df40793",
   "metadata": {},
   "outputs": [
    {
     "data": {
      "text/plain": [
       "(3102, 3)"
      ]
     },
     "execution_count": 16,
     "metadata": {},
     "output_type": "execute_result"
    }
   ],
   "source": [
    "terr.shape"
   ]
  },
  {
   "cell_type": "code",
   "execution_count": 17,
   "id": "e6ccf816",
   "metadata": {},
   "outputs": [],
   "source": [
    "d = pd.merge(df,terr,how = 'inner',on='Physician ID')"
   ]
  },
  {
   "cell_type": "code",
   "execution_count": 18,
   "id": "019fd680",
   "metadata": {},
   "outputs": [
    {
     "data": {
      "text/html": [
       "<div>\n",
       "<style scoped>\n",
       "    .dataframe tbody tr th:only-of-type {\n",
       "        vertical-align: middle;\n",
       "    }\n",
       "\n",
       "    .dataframe tbody tr th {\n",
       "        vertical-align: top;\n",
       "    }\n",
       "\n",
       "    .dataframe thead th {\n",
       "        text-align: right;\n",
       "    }\n",
       "</style>\n",
       "<table border=\"1\" class=\"dataframe\">\n",
       "  <thead>\n",
       "    <tr style=\"text-align: right;\">\n",
       "      <th></th>\n",
       "      <th>Physician ID</th>\n",
       "      <th>Patient Id</th>\n",
       "      <th>Patient Gender</th>\n",
       "      <th>Age</th>\n",
       "      <th>Indication (Diagnosed for)</th>\n",
       "      <th>Diagnosed Date</th>\n",
       "      <th>Treated Date</th>\n",
       "      <th>Drug Prescribed</th>\n",
       "      <th>Territory</th>\n",
       "      <th>Area</th>\n",
       "    </tr>\n",
       "  </thead>\n",
       "  <tbody>\n",
       "    <tr>\n",
       "      <th>0</th>\n",
       "      <td>51</td>\n",
       "      <td>1</td>\n",
       "      <td>Male</td>\n",
       "      <td>66</td>\n",
       "      <td>CLL</td>\n",
       "      <td>2018-07-22</td>\n",
       "      <td>NaT</td>\n",
       "      <td>NaN</td>\n",
       "      <td>Los Angeles North, CA</td>\n",
       "      <td>Central</td>\n",
       "    </tr>\n",
       "    <tr>\n",
       "      <th>1</th>\n",
       "      <td>51</td>\n",
       "      <td>195</td>\n",
       "      <td>Male</td>\n",
       "      <td>69</td>\n",
       "      <td>MCL</td>\n",
       "      <td>2019-03-01</td>\n",
       "      <td>2019-03-13</td>\n",
       "      <td>Alemtuzumab</td>\n",
       "      <td>Los Angeles North, CA</td>\n",
       "      <td>Central</td>\n",
       "    </tr>\n",
       "    <tr>\n",
       "      <th>2</th>\n",
       "      <td>51</td>\n",
       "      <td>5347</td>\n",
       "      <td>Male</td>\n",
       "      <td>61</td>\n",
       "      <td>MCL</td>\n",
       "      <td>2018-08-29</td>\n",
       "      <td>NaT</td>\n",
       "      <td>NaN</td>\n",
       "      <td>Los Angeles North, CA</td>\n",
       "      <td>Central</td>\n",
       "    </tr>\n",
       "    <tr>\n",
       "      <th>3</th>\n",
       "      <td>51</td>\n",
       "      <td>9727</td>\n",
       "      <td>Female</td>\n",
       "      <td>59</td>\n",
       "      <td>CLL</td>\n",
       "      <td>2018-12-20</td>\n",
       "      <td>NaT</td>\n",
       "      <td>NaN</td>\n",
       "      <td>Los Angeles North, CA</td>\n",
       "      <td>Central</td>\n",
       "    </tr>\n",
       "    <tr>\n",
       "      <th>4</th>\n",
       "      <td>51</td>\n",
       "      <td>10513</td>\n",
       "      <td>Female</td>\n",
       "      <td>74</td>\n",
       "      <td>MCL</td>\n",
       "      <td>2019-04-19</td>\n",
       "      <td>2019-04-23</td>\n",
       "      <td>Pentostatin</td>\n",
       "      <td>Los Angeles North, CA</td>\n",
       "      <td>Central</td>\n",
       "    </tr>\n",
       "  </tbody>\n",
       "</table>\n",
       "</div>"
      ],
      "text/plain": [
       "   Physician ID  Patient Id Patient Gender  Age  Indication (Diagnosed for)  \\\n",
       "0            51           1           Male    66                        CLL   \n",
       "1            51         195           Male    69                        MCL   \n",
       "2            51        5347           Male    61                        MCL   \n",
       "3            51        9727         Female    59                        CLL   \n",
       "4            51       10513         Female    74                        MCL   \n",
       "\n",
       "  Diagnosed Date Treated Date Drug Prescribed              Territory     Area  \n",
       "0     2018-07-22          NaT             NaN  Los Angeles North, CA  Central  \n",
       "1     2019-03-01   2019-03-13     Alemtuzumab  Los Angeles North, CA  Central  \n",
       "2     2018-08-29          NaT             NaN  Los Angeles North, CA  Central  \n",
       "3     2018-12-20          NaT             NaN  Los Angeles North, CA  Central  \n",
       "4     2019-04-19   2019-04-23     Pentostatin  Los Angeles North, CA  Central  "
      ]
     },
     "execution_count": 18,
     "metadata": {},
     "output_type": "execute_result"
    }
   ],
   "source": [
    "#merged dataset\n",
    "d.head()"
   ]
  },
  {
   "cell_type": "code",
   "execution_count": 19,
   "id": "d144e37d",
   "metadata": {},
   "outputs": [
    {
     "data": {
      "text/plain": [
       "(47010, 10)"
      ]
     },
     "execution_count": 19,
     "metadata": {},
     "output_type": "execute_result"
    }
   ],
   "source": [
    "d.shape"
   ]
  },
  {
   "cell_type": "code",
   "execution_count": 20,
   "id": "aff73abb",
   "metadata": {},
   "outputs": [
    {
     "data": {
      "text/plain": [
       "(47010, 8)"
      ]
     },
     "execution_count": 20,
     "metadata": {},
     "output_type": "execute_result"
    }
   ],
   "source": [
    "df.shape"
   ]
  },
  {
   "cell_type": "code",
   "execution_count": 21,
   "id": "dca79698",
   "metadata": {},
   "outputs": [
    {
     "data": {
      "text/plain": [
       "Northeast        9887\n",
       "West             9879\n",
       "North Central    9491\n",
       "South Central    9303\n",
       "Central          8450\n",
       "Name: Area, dtype: int64"
      ]
     },
     "execution_count": 21,
     "metadata": {},
     "output_type": "execute_result"
    }
   ],
   "source": [
    "d['Area'].value_counts()"
   ]
  },
  {
   "cell_type": "code",
   "execution_count": 22,
   "id": "34b88ace",
   "metadata": {},
   "outputs": [
    {
     "data": {
      "text/html": [
       "<div>\n",
       "<style scoped>\n",
       "    .dataframe tbody tr th:only-of-type {\n",
       "        vertical-align: middle;\n",
       "    }\n",
       "\n",
       "    .dataframe tbody tr th {\n",
       "        vertical-align: top;\n",
       "    }\n",
       "\n",
       "    .dataframe thead th {\n",
       "        text-align: right;\n",
       "    }\n",
       "</style>\n",
       "<table border=\"1\" class=\"dataframe\">\n",
       "  <thead>\n",
       "    <tr style=\"text-align: right;\">\n",
       "      <th></th>\n",
       "      <th>Physician ID</th>\n",
       "      <th>Patient Id</th>\n",
       "      <th>Age</th>\n",
       "    </tr>\n",
       "  </thead>\n",
       "  <tbody>\n",
       "    <tr>\n",
       "      <th>count</th>\n",
       "      <td>47010.000000</td>\n",
       "      <td>47010.000000</td>\n",
       "      <td>47010.000000</td>\n",
       "    </tr>\n",
       "    <tr>\n",
       "      <th>mean</th>\n",
       "      <td>3119.210359</td>\n",
       "      <td>23505.500000</td>\n",
       "      <td>58.542183</td>\n",
       "    </tr>\n",
       "    <tr>\n",
       "      <th>std</th>\n",
       "      <td>1380.702329</td>\n",
       "      <td>13570.762414</td>\n",
       "      <td>9.124134</td>\n",
       "    </tr>\n",
       "    <tr>\n",
       "      <th>min</th>\n",
       "      <td>2.000000</td>\n",
       "      <td>1.000000</td>\n",
       "      <td>40.000000</td>\n",
       "    </tr>\n",
       "    <tr>\n",
       "      <th>25%</th>\n",
       "      <td>2065.000000</td>\n",
       "      <td>11753.250000</td>\n",
       "      <td>52.000000</td>\n",
       "    </tr>\n",
       "    <tr>\n",
       "      <th>50%</th>\n",
       "      <td>3518.000000</td>\n",
       "      <td>23505.500000</td>\n",
       "      <td>59.000000</td>\n",
       "    </tr>\n",
       "    <tr>\n",
       "      <th>75%</th>\n",
       "      <td>4186.000000</td>\n",
       "      <td>35257.750000</td>\n",
       "      <td>66.000000</td>\n",
       "    </tr>\n",
       "    <tr>\n",
       "      <th>max</th>\n",
       "      <td>5156.000000</td>\n",
       "      <td>47010.000000</td>\n",
       "      <td>75.000000</td>\n",
       "    </tr>\n",
       "  </tbody>\n",
       "</table>\n",
       "</div>"
      ],
      "text/plain": [
       "       Physician ID    Patient Id          Age \n",
       "count  47010.000000  47010.000000  47010.000000\n",
       "mean    3119.210359  23505.500000     58.542183\n",
       "std     1380.702329  13570.762414      9.124134\n",
       "min        2.000000      1.000000     40.000000\n",
       "25%     2065.000000  11753.250000     52.000000\n",
       "50%     3518.000000  23505.500000     59.000000\n",
       "75%     4186.000000  35257.750000     66.000000\n",
       "max     5156.000000  47010.000000     75.000000"
      ]
     },
     "execution_count": 22,
     "metadata": {},
     "output_type": "execute_result"
    }
   ],
   "source": [
    "d.describe()"
   ]
  },
  {
   "cell_type": "code",
   "execution_count": 23,
   "id": "3c987e63",
   "metadata": {},
   "outputs": [
    {
     "data": {
      "text/plain": [
       "MCL    19392\n",
       "WM     15029\n",
       "CLL    12589\n",
       "Name: Indication (Diagnosed for), dtype: int64"
      ]
     },
     "execution_count": 23,
     "metadata": {},
     "output_type": "execute_result"
    }
   ],
   "source": [
    "d['Indication (Diagnosed for)'].value_counts()"
   ]
  },
  {
   "cell_type": "code",
   "execution_count": 25,
   "id": "4f93ffb5",
   "metadata": {},
   "outputs": [
    {
     "data": {
      "text/plain": [
       "Northeast        4066\n",
       "West             4060\n",
       "South Central    3907\n",
       "North Central    3891\n",
       "Central          3468\n",
       "Name: Area, dtype: int64"
      ]
     },
     "execution_count": 25,
     "metadata": {},
     "output_type": "execute_result"
    }
   ],
   "source": [
    "#MCL Diagnosed in the Area\n",
    "d[d['Indication (Diagnosed for)']=='MCL']['Area'].value_counts()"
   ]
  },
  {
   "cell_type": "code",
   "execution_count": 26,
   "id": "370389eb",
   "metadata": {},
   "outputs": [
    {
     "data": {
      "text/plain": [
       "West             3177\n",
       "Northeast        3155\n",
       "North Central    3038\n",
       "South Central    2949\n",
       "Central          2710\n",
       "Name: Area, dtype: int64"
      ]
     },
     "execution_count": 26,
     "metadata": {},
     "output_type": "execute_result"
    }
   ],
   "source": [
    "#WM diagnosed in the area\n",
    "d[d['Indication (Diagnosed for)']=='WM']['Area'].value_counts()"
   ]
  },
  {
   "cell_type": "code",
   "execution_count": 27,
   "id": "4bfbd0d3",
   "metadata": {},
   "outputs": [
    {
     "data": {
      "text/plain": [
       "Northeast        2666\n",
       "West             2642\n",
       "North Central    2562\n",
       "South Central    2447\n",
       "Central          2272\n",
       "Name: Area, dtype: int64"
      ]
     },
     "execution_count": 27,
     "metadata": {},
     "output_type": "execute_result"
    }
   ],
   "source": [
    "#CLL diagnosed in the area\n",
    "d[d['Indication (Diagnosed for)']=='CLL']['Area'].value_counts()"
   ]
  },
  {
   "cell_type": "code",
   "execution_count": 30,
   "id": "05bc4513",
   "metadata": {},
   "outputs": [],
   "source": [
    "li=d['Physician ID'].value_counts()"
   ]
  },
  {
   "cell_type": "code",
   "execution_count": 31,
   "id": "bc745e00",
   "metadata": {},
   "outputs": [
    {
     "data": {
      "text/plain": [
       "949     65\n",
       "3626    61\n",
       "3334    54\n",
       "1887    53\n",
       "759     52\n",
       "        ..\n",
       "5111     1\n",
       "788      1\n",
       "5145     1\n",
       "5141     1\n",
       "4461     1\n",
       "Name: Physician ID, Length: 3102, dtype: int64"
      ]
     },
     "execution_count": 31,
     "metadata": {},
     "output_type": "execute_result"
    }
   ],
   "source": [
    "li"
   ]
  },
  {
   "cell_type": "code",
   "execution_count": 32,
   "id": "423086e8",
   "metadata": {},
   "outputs": [
    {
     "data": {
      "text/plain": [
       "(3102,)"
      ]
     },
     "execution_count": 32,
     "metadata": {},
     "output_type": "execute_result"
    }
   ],
   "source": [
    "#total no of physicians\n",
    "li.shape"
   ]
  },
  {
   "cell_type": "code",
   "execution_count": 33,
   "id": "2835303b",
   "metadata": {},
   "outputs": [
    {
     "data": {
      "text/plain": [
       "count    47010.000000\n",
       "mean      3119.210359\n",
       "std       1380.702329\n",
       "min          2.000000\n",
       "25%       2065.000000\n",
       "50%       3518.000000\n",
       "75%       4186.000000\n",
       "max       5156.000000\n",
       "Name: Physician ID, dtype: float64"
      ]
     },
     "execution_count": 33,
     "metadata": {},
     "output_type": "execute_result"
    }
   ],
   "source": [
    "#not required\n",
    "d['Physician ID'].describe()"
   ]
  },
  {
   "cell_type": "code",
   "execution_count": 37,
   "id": "00a4a99a",
   "metadata": {},
   "outputs": [
    {
     "data": {
      "text/plain": [
       "Chlorambucil        10471\n",
       "Alemtuzumab          7636\n",
       "Pentostatin          7573\n",
       "Cyclophosphamide     5427\n",
       "Fludarabine          4987\n",
       "Name: Drug Prescribed, dtype: int64"
      ]
     },
     "execution_count": 37,
     "metadata": {},
     "output_type": "execute_result"
    }
   ],
   "source": [
    "#drug prescribed with quantity\n",
    "d['Drug Prescribed'].value_counts()"
   ]
  },
  {
   "cell_type": "code",
   "execution_count": 38,
   "id": "f21bf04d",
   "metadata": {},
   "outputs": [],
   "source": [
    "import matplotlib.pyplot as plt\n",
    "import seaborn as sns\n",
    "sns.set()\n",
    "%matplotlib inline"
   ]
  },
  {
   "cell_type": "markdown",
   "id": "026f28cc",
   "metadata": {},
   "source": [
    "# Drug prescribed per area"
   ]
  },
  {
   "cell_type": "code",
   "execution_count": 42,
   "id": "b7e06cca",
   "metadata": {},
   "outputs": [
    {
     "data": {
      "text/plain": [
       "West             2204\n",
       "Northeast        2190\n",
       "North Central    2099\n",
       "South Central    2097\n",
       "Central          1881\n",
       "Name: Area, dtype: int64"
      ]
     },
     "execution_count": 42,
     "metadata": {},
     "output_type": "execute_result"
    }
   ],
   "source": [
    "d[d['Drug Prescribed']=='Chlorambucil']['Area'].value_counts()"
   ]
  },
  {
   "cell_type": "code",
   "execution_count": 43,
   "id": "200a69ac",
   "metadata": {},
   "outputs": [
    {
     "data": {
      "text/plain": [
       "Northeast        1607\n",
       "West             1594\n",
       "North Central    1518\n",
       "South Central    1496\n",
       "Central          1358\n",
       "Name: Area, dtype: int64"
      ]
     },
     "execution_count": 43,
     "metadata": {},
     "output_type": "execute_result"
    }
   ],
   "source": [
    "d[d['Drug Prescribed']=='Pentostatin']['Area'].value_counts()"
   ]
  },
  {
   "cell_type": "code",
   "execution_count": 48,
   "id": "74b95ff6",
   "metadata": {},
   "outputs": [
    {
     "data": {
      "image/png": "[encoded data removed]",
      "text/plain": [
       "<Figure size 432x288 with 1 Axes>"
      ]
     },
     "metadata": {
      "needs_background": "light"
     },
     "output_type": "display_data"
    }
   ],
   "source": [
    "d[d['Drug Prescribed']=='Pentostatin']['Area'].value_counts().plot(kind='bar')\n",
    "plt.show()"
   ]
  },
  {
   "cell_type": "code",
   "execution_count": 44,
   "id": "be039673",
   "metadata": {},
   "outputs": [
    {
     "data": {
      "text/plain": [
       "Northeast        1686\n",
       "West             1585\n",
       "North Central    1516\n",
       "South Central    1472\n",
       "Central          1377\n",
       "Name: Area, dtype: int64"
      ]
     },
     "execution_count": 44,
     "metadata": {},
     "output_type": "execute_result"
    }
   ],
   "source": [
    "d[d['Drug Prescribed']=='Alemtuzumab']['Area'].value_counts()"
   ]
  },
  {
   "cell_type": "code",
   "execution_count": 45,
   "id": "786e6e14",
   "metadata": {},
   "outputs": [
    {
     "data": {
      "text/plain": [
       "West             1141\n",
       "North Central    1116\n",
       "Northeast        1104\n",
       "South Central    1058\n",
       "Central          1008\n",
       "Name: Area, dtype: int64"
      ]
     },
     "execution_count": 45,
     "metadata": {},
     "output_type": "execute_result"
    }
   ],
   "source": [
    "d[d['Drug Prescribed']=='Cyclophosphamide']['Area'].value_counts()"
   ]
  },
  {
   "cell_type": "code",
   "execution_count": 46,
   "id": "9d841cba",
   "metadata": {},
   "outputs": [
    {
     "data": {
      "text/plain": [
       "Northeast        1073\n",
       "West             1026\n",
       "North Central    1013\n",
       "South Central    1013\n",
       "Central           862\n",
       "Name: Area, dtype: int64"
      ]
     },
     "execution_count": 46,
     "metadata": {},
     "output_type": "execute_result"
    }
   ],
   "source": [
    "d[d['Drug Prescribed']=='Fludarabine']['Area'].value_counts()"
   ]
  },
  {
   "cell_type": "code",
   "execution_count": null,
   "id": "1964a837",
   "metadata": {},
   "outputs": [
    {
     "data": {
      "text/plain": [
       "<AxesSubplot:>"
      ]
     },
     "execution_count": 53,
     "metadata": {},
     "output_type": "execute_result"
    }
   ],
   "source": [
    "d['Physician ID'].value_counts().plot(kind='bar')\n"
   ]
  },
  {
   "cell_type": "code",
   "execution_count": null,
   "id": "d96a75d8",
   "metadata": {},
   "outputs": [],
   "source": [
    "plt.show()"
   ]
  },
  {
   "cell_type": "code",
   "execution_count": null,
   "id": "815aa6be",
   "metadata": {},
   "outputs": [],
   "source": []
  }
 ],
 "metadata": {
  "kernelspec": {
   "display_name": "Python 3",
   "language": "python",
   "name": "python3"
  },
  "language_info": {
   "codemirror_mode": {
    "name": "ipython",
    "version": 3
   },
   "file_extension": ".py",
   "mimetype": "text/x-python",
   "name": "python",
   "nbconvert_exporter": "python",
   "pygments_lexer": "ipython3",
   "version": "3.8.8"
  }
 },
 "nbformat": 4,
 "nbformat_minor": 5
}
