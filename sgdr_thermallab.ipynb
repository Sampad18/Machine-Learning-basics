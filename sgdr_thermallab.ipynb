{
 "cells": [
  {
   "cell_type": "code",
   "execution_count": 5,
   "id": "ac2eb10a",
   "metadata": {},
   "outputs": [],
   "source": [
    "from sklearn.linear_model import SGDRegressor\n",
    "from sklearn.datasets import load_boston\n",
    "from sklearn.datasets import make_regression\n",
    "from sklearn.metrics import mean_squared_error\n",
    "from sklearn.model_selection import train_test_split\n",
    "from sklearn.model_selection import cross_val_score\n",
    "from sklearn.preprocessing import scale\n",
    "import matplotlib.pyplot as plt\n",
    "import pandas as pd"
   ]
  },
  {
   "cell_type": "code",
   "execution_count": 6,
   "id": "c95844a1",
   "metadata": {},
   "outputs": [
    {
     "data": {
      "text/html": [
       "<div>\n",
       "<style scoped>\n",
       "    .dataframe tbody tr th:only-of-type {\n",
       "        vertical-align: middle;\n",
       "    }\n",
       "\n",
       "    .dataframe tbody tr th {\n",
       "        vertical-align: top;\n",
       "    }\n",
       "\n",
       "    .dataframe thead th {\n",
       "        text-align: right;\n",
       "    }\n",
       "</style>\n",
       "<table border=\"1\" class=\"dataframe\">\n",
       "  <thead>\n",
       "    <tr style=\"text-align: right;\">\n",
       "      <th></th>\n",
       "      <th>Mass rate</th>\n",
       "      <th>T</th>\n",
       "      <th>W</th>\n",
       "      <th>hao</th>\n",
       "      <th>Pao</th>\n",
       "    </tr>\n",
       "  </thead>\n",
       "  <tbody>\n",
       "    <tr>\n",
       "      <th>0</th>\n",
       "      <td>7.55</td>\n",
       "      <td>307.8</td>\n",
       "      <td>0.021</td>\n",
       "      <td>338.768360</td>\n",
       "      <td>1.453960</td>\n",
       "    </tr>\n",
       "    <tr>\n",
       "      <th>1</th>\n",
       "      <td>6.36</td>\n",
       "      <td>306.9</td>\n",
       "      <td>0.018</td>\n",
       "      <td>335.419116</td>\n",
       "      <td>1.344164</td>\n",
       "    </tr>\n",
       "    <tr>\n",
       "      <th>2</th>\n",
       "      <td>8.67</td>\n",
       "      <td>308.2</td>\n",
       "      <td>0.022</td>\n",
       "      <td>343.885040</td>\n",
       "      <td>1.520502</td>\n",
       "    </tr>\n",
       "    <tr>\n",
       "      <th>3</th>\n",
       "      <td>12.22</td>\n",
       "      <td>307.9</td>\n",
       "      <td>0.021</td>\n",
       "      <td>351.496540</td>\n",
       "      <td>1.643607</td>\n",
       "    </tr>\n",
       "    <tr>\n",
       "      <th>4</th>\n",
       "      <td>15.65</td>\n",
       "      <td>306.7</td>\n",
       "      <td>0.019</td>\n",
       "      <td>353.021473</td>\n",
       "      <td>1.733439</td>\n",
       "    </tr>\n",
       "  </tbody>\n",
       "</table>\n",
       "</div>"
      ],
      "text/plain": [
       "   Mass rate      T      W         hao       Pao\n",
       "0       7.55  307.8  0.021  338.768360  1.453960\n",
       "1       6.36  306.9  0.018  335.419116  1.344164\n",
       "2       8.67  308.2  0.022  343.885040  1.520502\n",
       "3      12.22  307.9  0.021  351.496540  1.643607\n",
       "4      15.65  306.7  0.019  353.021473  1.733439"
      ]
     },
     "execution_count": 6,
     "metadata": {},
     "output_type": "execute_result"
    }
   ],
   "source": [
    "df = pd.read_excel('D:/8th sem/Thermal lab/moddata.xlsx')\n",
    "df.head()"
   ]
  },
  {
   "cell_type": "code",
   "execution_count": null,
   "id": "ff5dec79",
   "metadata": {},
   "outputs": [],
   "source": []
  },
  {
   "cell_type": "code",
   "execution_count": null,
   "id": "ca690804",
   "metadata": {},
   "outputs": [],
   "source": []
  },
  {
   "cell_type": "code",
   "execution_count": null,
   "id": "9d991644",
   "metadata": {},
   "outputs": [],
   "source": []
  },
  {
   "cell_type": "code",
   "execution_count": null,
   "id": "a93cb868",
   "metadata": {},
   "outputs": [],
   "source": []
  },
  {
   "cell_type": "code",
   "execution_count": 7,
   "id": "b7f6781e",
   "metadata": {},
   "outputs": [],
   "source": [
    "from sklearn.preprocessing import MinMaxScaler"
   ]
  },
  {
   "cell_type": "code",
   "execution_count": 34,
   "id": "c7fba7d2",
   "metadata": {},
   "outputs": [
    {
     "name": "stdout",
     "output_type": "stream",
     "text": [
      "MinMaxScaler()\n"
     ]
    }
   ],
   "source": [
    "scaler = MinMaxScaler()\n",
    "print(scaler.fit(df[['hao']]))"
   ]
  },
  {
   "cell_type": "code",
   "execution_count": 35,
   "id": "0ff1bdc7",
   "metadata": {},
   "outputs": [
    {
     "name": "stdout",
     "output_type": "stream",
     "text": [
      "[[-0.56326038  0.76429209]\n",
      " [-0.98724419 -0.56316259]\n",
      " [-0.1642168   1.20677698]\n",
      " [ 1.10060884  0.76429209]\n",
      " [ 2.32267982 -0.1206777 ]\n",
      " [ 1.18255529  0.76429209]\n",
      " [-0.56326038  1.20677698]\n",
      " [-0.59888927 -0.1206777 ]\n",
      " [-0.60601505 -0.56316259]\n",
      " [-0.59888927 -1.44813238]\n",
      " [-0.5240686  -1.89061727]]\n"
     ]
    }
   ],
   "source": [
    "x = df[['Mass rate','W']]\n",
    "x = scale(x)\n",
    "print(x)"
   ]
  },
  {
   "cell_type": "code",
   "execution_count": 36,
   "id": "2d229dcb",
   "metadata": {},
   "outputs": [
    {
     "name": "stdout",
     "output_type": "stream",
     "text": [
      "[361.8522699]\n"
     ]
    }
   ],
   "source": [
    "print(scaler.data_max_)"
   ]
  },
  {
   "cell_type": "code",
   "execution_count": 37,
   "id": "71063a64",
   "metadata": {},
   "outputs": [
    {
     "name": "stdout",
     "output_type": "stream",
     "text": [
      "[[0.12670616]\n",
      " [0.        ]\n",
      " [0.32027673]\n",
      " [0.6082295 ]\n",
      " [0.66591967]\n",
      " [1.        ]\n",
      " [0.12498838]\n",
      " [0.11643211]\n",
      " [0.03709428]\n",
      " [0.11071815]\n",
      " [0.12498838]]\n"
     ]
    }
   ],
   "source": [
    "print(scaler.transform(df[['hao']]))"
   ]
  },
  {
   "cell_type": "code",
   "execution_count": 38,
   "id": "4f9d957b",
   "metadata": {},
   "outputs": [
    {
     "name": "stdout",
     "output_type": "stream",
     "text": [
      "[[0.12670616]\n",
      " [0.        ]\n",
      " [0.32027673]\n",
      " [0.6082295 ]\n",
      " [0.66591967]\n",
      " [1.        ]\n",
      " [0.12498838]\n",
      " [0.11643211]\n",
      " [0.03709428]\n",
      " [0.11071815]\n",
      " [0.12498838]]\n"
     ]
    }
   ],
   "source": [
    "y=scaler.transform(df[['hao']])\n",
    "print(y)"
   ]
  },
  {
   "cell_type": "code",
   "execution_count": 39,
   "id": "acdebf86",
   "metadata": {},
   "outputs": [
    {
     "name": "stdout",
     "output_type": "stream",
     "text": [
      "R-squared: 0.5422619887323616\n"
     ]
    },
    {
     "name": "stderr",
     "output_type": "stream",
     "text": [
      "C:\\Users\\HP\\anaconda3\\lib\\site-packages\\sklearn\\utils\\validation.py:63: DataConversionWarning: A column-vector y was passed when a 1d array was expected. Please change the shape of y to (n_samples, ), for example using ravel().\n",
      "  return f(*args, **kwargs)\n"
     ]
    }
   ],
   "source": [
    "sgdr = SGDRegressor()\n",
    "sgdr.fit(x, y)\n",
    "\n",
    "score = sgdr.score(x, y)\n",
    "print(\"R-squared:\", score)\n"
   ]
  },
  {
   "cell_type": "code",
   "execution_count": 40,
   "id": "4a592909",
   "metadata": {},
   "outputs": [
    {
     "name": "stdout",
     "output_type": "stream",
     "text": [
      "[[ 1.30629616e-01]\n",
      " [-9.35288355e-03]\n",
      " [ 2.16885982e-01]\n",
      " [ 3.86267133e-01]\n",
      " [ 5.24132286e-01]\n",
      " [ 3.98857418e-01]\n",
      " [ 1.55576770e-01]\n",
      " [ 7.52612713e-02]\n",
      " [ 4.92193099e-02]\n",
      " [ 4.19809111e-04]\n",
      " [-1.30318677e-02]]\n"
     ]
    }
   ],
   "source": [
    "ypred = sgdr.predict(x)\n",
    "ypred = ypred.reshape(-1,1)\n",
    "print(ypred)"
   ]
  },
  {
   "cell_type": "code",
   "execution_count": 41,
   "id": "fc493647",
   "metadata": {},
   "outputs": [
    {
     "name": "stdout",
     "output_type": "stream",
     "text": [
      "         0\n",
      "338.872069\n",
      "335.171890\n",
      "341.152097\n",
      "345.629375\n",
      "349.273586\n",
      "345.962176\n",
      "339.531501\n",
      "337.408509\n",
      "336.720138\n",
      "335.430213\n",
      "335.074643\n"
     ]
    }
   ],
   "source": [
    "opt = pd.DataFrame(scaler.inverse_transform(ypred))\n",
    "print(opt.to_string(index=False))"
   ]
  },
  {
   "cell_type": "code",
   "execution_count": 42,
   "id": "35ea3169",
   "metadata": {},
   "outputs": [
    {
     "name": "stdout",
     "output_type": "stream",
     "text": [
      "MSE:  0.04322989915694813\n",
      "RMSE:  0.20791801066032767\n"
     ]
    }
   ],
   "source": [
    "mse = mean_squared_error(y, ypred)\n",
    "print(\"MSE: \", mse)\n",
    "print(\"RMSE: \", mse**(1/2.0)) "
   ]
  },
  {
   "cell_type": "code",
   "execution_count": 43,
   "id": "4424b613",
   "metadata": {},
   "outputs": [
    {
     "data": {
      "image/png": "[encoded data removed]",
      "text/plain": [
       "<Figure size 432x288 with 1 Axes>"
      ]
     },
     "metadata": {
      "needs_background": "light"
     },
     "output_type": "display_data"
    }
   ],
   "source": [
    "x_ax = range(len(y))\n",
    "plt.plot(x_ax, y, label=\"original\")\n",
    "plt.plot(x_ax, ypred, label=\"predicted\")\n",
    "plt.title(\"Actual VS predicted data\")\n",
    "plt.xlabel('X-axis')\n",
    "plt.ylabel('Y-axis')\n",
    "plt.legend(loc='best',fancybox=True, shadow=True)\n",
    "plt.grid(True)\n",
    "plt.show()"
   ]
  },
  {
   "cell_type": "code",
   "execution_count": null,
   "id": "4ba4c2e7",
   "metadata": {},
   "outputs": [],
   "source": []
  }
 ],
 "metadata": {
  "kernelspec": {
   "display_name": "Python 3",
   "language": "python",
   "name": "python3"
  },
  "language_info": {
   "codemirror_mode": {
    "name": "ipython",
    "version": 3
   },
   "file_extension": ".py",
   "mimetype": "text/x-python",
   "name": "python",
   "nbconvert_exporter": "python",
   "pygments_lexer": "ipython3",
   "version": "3.8.8"
  }
 },
 "nbformat": 4,
 "nbformat_minor": 5
}
