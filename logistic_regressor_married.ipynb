{
 "cells": [
  {
   "cell_type": "code",
   "execution_count": 10,
   "id": "ebb3d546",
   "metadata": {},
   "outputs": [],
   "source": [
    "import numpy as np\n",
    "import pandas as pd\n",
    "import matplotlib.pyplot as plt\n",
    "plt.style.use('ggplot')\n",
    "from sklearn import metrics\n",
    "from sklearn.metrics import plot_confusion_matrix\n",
    "%matplotlib inline"
   ]
  },
  {
   "cell_type": "code",
   "execution_count": 11,
   "id": "1001bea5",
   "metadata": {},
   "outputs": [],
   "source": [
    "df = pd.read_csv('D:\\WEBDEV\\HackRx\\LOAN_DATA.csv')"
   ]
  },
  {
   "cell_type": "code",
   "execution_count": 12,
   "id": "6b776020",
   "metadata": {},
   "outputs": [
    {
     "data": {
      "text/html": [
       "<div>\n",
       "<style scoped>\n",
       "    .dataframe tbody tr th:only-of-type {\n",
       "        vertical-align: middle;\n",
       "    }\n",
       "\n",
       "    .dataframe tbody tr th {\n",
       "        vertical-align: top;\n",
       "    }\n",
       "\n",
       "    .dataframe thead th {\n",
       "        text-align: right;\n",
       "    }\n",
       "</style>\n",
       "<table border=\"1\" class=\"dataframe\">\n",
       "  <thead>\n",
       "    <tr style=\"text-align: right;\">\n",
       "      <th></th>\n",
       "      <th>S_NO</th>\n",
       "      <th>NAME</th>\n",
       "      <th>AGE</th>\n",
       "      <th>GENDER</th>\n",
       "      <th>RELATIONSHIP_STATUS</th>\n",
       "      <th>PID1</th>\n",
       "      <th>PID2</th>\n",
       "      <th>PID3</th>\n",
       "      <th>PIDB</th>\n",
       "    </tr>\n",
       "  </thead>\n",
       "  <tbody>\n",
       "    <tr>\n",
       "      <th>0</th>\n",
       "      <td>1</td>\n",
       "      <td>Saket Misra</td>\n",
       "      <td>22</td>\n",
       "      <td>M</td>\n",
       "      <td>U</td>\n",
       "      <td>STL</td>\n",
       "      <td>PIL</td>\n",
       "      <td>PIL</td>\n",
       "      <td>STL</td>\n",
       "    </tr>\n",
       "    <tr>\n",
       "      <th>1</th>\n",
       "      <td>2</td>\n",
       "      <td>Ranjan dehuri</td>\n",
       "      <td>34</td>\n",
       "      <td>M</td>\n",
       "      <td>M</td>\n",
       "      <td>HEI</td>\n",
       "      <td>VEL</td>\n",
       "      <td>HEI</td>\n",
       "      <td>HEI</td>\n",
       "    </tr>\n",
       "    <tr>\n",
       "      <th>2</th>\n",
       "      <td>3</td>\n",
       "      <td>Bivas Kesar</td>\n",
       "      <td>30</td>\n",
       "      <td>M</td>\n",
       "      <td>U</td>\n",
       "      <td>HEI</td>\n",
       "      <td>HEI</td>\n",
       "      <td>HEI</td>\n",
       "      <td>NaN</td>\n",
       "    </tr>\n",
       "    <tr>\n",
       "      <th>3</th>\n",
       "      <td>4</td>\n",
       "      <td>Rani Das</td>\n",
       "      <td>23</td>\n",
       "      <td>F</td>\n",
       "      <td>M</td>\n",
       "      <td>HEI</td>\n",
       "      <td>COL</td>\n",
       "      <td>HEI</td>\n",
       "      <td>HEI</td>\n",
       "    </tr>\n",
       "    <tr>\n",
       "      <th>4</th>\n",
       "      <td>5</td>\n",
       "      <td>Neha Das</td>\n",
       "      <td>42</td>\n",
       "      <td>F</td>\n",
       "      <td>M</td>\n",
       "      <td>HEI</td>\n",
       "      <td>EDT</td>\n",
       "      <td>EDT</td>\n",
       "      <td>EDT</td>\n",
       "    </tr>\n",
       "  </tbody>\n",
       "</table>\n",
       "</div>"
      ],
      "text/plain": [
       "   S_NO           NAME  AGE GENDER RELATIONSHIP_STATUS PID1 PID2 PID3 PIDB\n",
       "0     1    Saket Misra   22      M                   U  STL  PIL  PIL  STL\n",
       "1     2  Ranjan dehuri   34      M                   M  HEI  VEL  HEI  HEI\n",
       "2     3    Bivas Kesar   30      M                   U  HEI  HEI  HEI  NaN\n",
       "3     4       Rani Das   23      F                   M  HEI  COL  HEI  HEI\n",
       "4     5       Neha Das   42      F                   M  HEI  EDT  EDT  EDT"
      ]
     },
     "execution_count": 12,
     "metadata": {},
     "output_type": "execute_result"
    }
   ],
   "source": [
    "df.head()"
   ]
  },
  {
   "cell_type": "code",
   "execution_count": 13,
   "id": "664c04cd",
   "metadata": {},
   "outputs": [
    {
     "data": {
      "text/plain": [
       "(200, 9)"
      ]
     },
     "execution_count": 13,
     "metadata": {},
     "output_type": "execute_result"
    }
   ],
   "source": [
    "df.shape"
   ]
  },
  {
   "cell_type": "code",
   "execution_count": 14,
   "id": "a4170174",
   "metadata": {},
   "outputs": [],
   "source": [
    "df = df[['AGE','GENDER','RELATIONSHIP_STATUS']]"
   ]
  },
  {
   "cell_type": "code",
   "execution_count": 15,
   "id": "2c519553",
   "metadata": {},
   "outputs": [
    {
     "data": {
      "text/plain": [
       "(200, 3)"
      ]
     },
     "execution_count": 15,
     "metadata": {},
     "output_type": "execute_result"
    }
   ],
   "source": [
    "df.shape"
   ]
  },
  {
   "cell_type": "code",
   "execution_count": 16,
   "id": "46d717c9",
   "metadata": {},
   "outputs": [
    {
     "name": "stdout",
     "output_type": "stream",
     "text": [
      "<class 'pandas.core.frame.DataFrame'>\n",
      "RangeIndex: 200 entries, 0 to 199\n",
      "Data columns (total 3 columns):\n",
      " #   Column               Non-Null Count  Dtype \n",
      "---  ------               --------------  ----- \n",
      " 0   AGE                  200 non-null    int64 \n",
      " 1   GENDER               200 non-null    object\n",
      " 2   RELATIONSHIP_STATUS  200 non-null    object\n",
      "dtypes: int64(1), object(2)\n",
      "memory usage: 4.8+ KB\n"
     ]
    }
   ],
   "source": [
    "df.info()\n"
   ]
  },
  {
   "cell_type": "code",
   "execution_count": 17,
   "id": "9d74de46",
   "metadata": {},
   "outputs": [
    {
     "data": {
      "text/plain": [
       "(200, 4)"
      ]
     },
     "execution_count": 17,
     "metadata": {},
     "output_type": "execute_result"
    }
   ],
   "source": [
    "df = pd.get_dummies(df,columns=['RELATIONSHIP_STATUS'])\n",
    "df.shape"
   ]
  },
  {
   "cell_type": "code",
   "execution_count": 18,
   "id": "d43920a4",
   "metadata": {},
   "outputs": [
    {
     "data": {
      "text/html": [
       "<div>\n",
       "<style scoped>\n",
       "    .dataframe tbody tr th:only-of-type {\n",
       "        vertical-align: middle;\n",
       "    }\n",
       "\n",
       "    .dataframe tbody tr th {\n",
       "        vertical-align: top;\n",
       "    }\n",
       "\n",
       "    .dataframe thead th {\n",
       "        text-align: right;\n",
       "    }\n",
       "</style>\n",
       "<table border=\"1\" class=\"dataframe\">\n",
       "  <thead>\n",
       "    <tr style=\"text-align: right;\">\n",
       "      <th></th>\n",
       "      <th>AGE</th>\n",
       "      <th>RELATIONSHIP_STATUS_M</th>\n",
       "      <th>RELATIONSHIP_STATUS_U</th>\n",
       "    </tr>\n",
       "  </thead>\n",
       "  <tbody>\n",
       "    <tr>\n",
       "      <th>count</th>\n",
       "      <td>200.000000</td>\n",
       "      <td>200.000000</td>\n",
       "      <td>200.000000</td>\n",
       "    </tr>\n",
       "    <tr>\n",
       "      <th>mean</th>\n",
       "      <td>41.265000</td>\n",
       "      <td>0.715000</td>\n",
       "      <td>0.285000</td>\n",
       "    </tr>\n",
       "    <tr>\n",
       "      <th>std</th>\n",
       "      <td>15.940996</td>\n",
       "      <td>0.452547</td>\n",
       "      <td>0.452547</td>\n",
       "    </tr>\n",
       "    <tr>\n",
       "      <th>min</th>\n",
       "      <td>18.000000</td>\n",
       "      <td>0.000000</td>\n",
       "      <td>0.000000</td>\n",
       "    </tr>\n",
       "    <tr>\n",
       "      <th>25%</th>\n",
       "      <td>28.750000</td>\n",
       "      <td>0.000000</td>\n",
       "      <td>0.000000</td>\n",
       "    </tr>\n",
       "    <tr>\n",
       "      <th>50%</th>\n",
       "      <td>39.000000</td>\n",
       "      <td>1.000000</td>\n",
       "      <td>0.000000</td>\n",
       "    </tr>\n",
       "    <tr>\n",
       "      <th>75%</th>\n",
       "      <td>51.000000</td>\n",
       "      <td>1.000000</td>\n",
       "      <td>1.000000</td>\n",
       "    </tr>\n",
       "    <tr>\n",
       "      <th>max</th>\n",
       "      <td>99.000000</td>\n",
       "      <td>1.000000</td>\n",
       "      <td>1.000000</td>\n",
       "    </tr>\n",
       "  </tbody>\n",
       "</table>\n",
       "</div>"
      ],
      "text/plain": [
       "              AGE  RELATIONSHIP_STATUS_M  RELATIONSHIP_STATUS_U\n",
       "count  200.000000             200.000000             200.000000\n",
       "mean    41.265000               0.715000               0.285000\n",
       "std     15.940996               0.452547               0.452547\n",
       "min     18.000000               0.000000               0.000000\n",
       "25%     28.750000               0.000000               0.000000\n",
       "50%     39.000000               1.000000               0.000000\n",
       "75%     51.000000               1.000000               1.000000\n",
       "max     99.000000               1.000000               1.000000"
      ]
     },
     "execution_count": 18,
     "metadata": {},
     "output_type": "execute_result"
    }
   ],
   "source": [
    "df.describe()"
   ]
  },
  {
   "cell_type": "code",
   "execution_count": 23,
   "id": "d57e1a0f",
   "metadata": {},
   "outputs": [
    {
     "ename": "SyntaxError",
     "evalue": "invalid syntax (<ipython-input-23-1b44917c1ddd>, line 1)",
     "output_type": "error",
     "traceback": [
      "\u001b[1;36m  File \u001b[1;32m\"<ipython-input-23-1b44917c1ddd>\"\u001b[1;36m, line \u001b[1;32m1\u001b[0m\n\u001b[1;33m    df.drop[['RELATIONSHIP_STATUS_U'],axis=1]\u001b[0m\n\u001b[1;37m                                          ^\u001b[0m\n\u001b[1;31mSyntaxError\u001b[0m\u001b[1;31m:\u001b[0m invalid syntax\n"
     ]
    }
   ],
   "source": [
    "df.drop[['RELATIONSHIP_STATUS_U'],axis=1]"
   ]
  },
  {
   "cell_type": "code",
   "execution_count": 24,
   "id": "7e747297",
   "metadata": {},
   "outputs": [
    {
     "name": "stdout",
     "output_type": "stream",
     "text": [
      "<class 'pandas.core.frame.DataFrame'>\n",
      "RangeIndex: 200 entries, 0 to 199\n",
      "Data columns (total 4 columns):\n",
      " #   Column                 Non-Null Count  Dtype \n",
      "---  ------                 --------------  ----- \n",
      " 0   AGE                    200 non-null    int64 \n",
      " 1   GENDER                 200 non-null    object\n",
      " 2   RELATIONSHIP_STATUS_M  200 non-null    uint8 \n",
      " 3   RELATIONSHIP_STATUS_U  200 non-null    uint8 \n",
      "dtypes: int64(1), object(1), uint8(2)\n",
      "memory usage: 3.6+ KB\n"
     ]
    }
   ],
   "source": [
    "df.info()"
   ]
  },
  {
   "cell_type": "code",
   "execution_count": 29,
   "id": "b76bb5d8",
   "metadata": {},
   "outputs": [],
   "source": [
    "df = df.drop(columns='RELATIONSHIP_STATUS_U')"
   ]
  },
  {
   "cell_type": "code",
   "execution_count": 27,
   "id": "d487227c",
   "metadata": {},
   "outputs": [],
   "source": [
    "df = pd.get_dummies(df,columns=['GENDER'])"
   ]
  },
  {
   "cell_type": "code",
   "execution_count": null,
   "id": "95065008",
   "metadata": {},
   "outputs": [],
   "source": []
  },
  {
   "cell_type": "code",
   "execution_count": 28,
   "id": "5a2365ad",
   "metadata": {},
   "outputs": [
    {
     "data": {
      "text/html": [
       "<div>\n",
       "<style scoped>\n",
       "    .dataframe tbody tr th:only-of-type {\n",
       "        vertical-align: middle;\n",
       "    }\n",
       "\n",
       "    .dataframe tbody tr th {\n",
       "        vertical-align: top;\n",
       "    }\n",
       "\n",
       "    .dataframe thead th {\n",
       "        text-align: right;\n",
       "    }\n",
       "</style>\n",
       "<table border=\"1\" class=\"dataframe\">\n",
       "  <thead>\n",
       "    <tr style=\"text-align: right;\">\n",
       "      <th></th>\n",
       "      <th>AGE</th>\n",
       "      <th>RELATIONSHIP_STATUS_M</th>\n",
       "      <th>RELATIONSHIP_STATUS_U</th>\n",
       "      <th>GENDER_M</th>\n",
       "    </tr>\n",
       "  </thead>\n",
       "  <tbody>\n",
       "    <tr>\n",
       "      <th>0</th>\n",
       "      <td>22</td>\n",
       "      <td>0</td>\n",
       "      <td>1</td>\n",
       "      <td>1</td>\n",
       "    </tr>\n",
       "    <tr>\n",
       "      <th>1</th>\n",
       "      <td>34</td>\n",
       "      <td>1</td>\n",
       "      <td>0</td>\n",
       "      <td>1</td>\n",
       "    </tr>\n",
       "    <tr>\n",
       "      <th>2</th>\n",
       "      <td>30</td>\n",
       "      <td>0</td>\n",
       "      <td>1</td>\n",
       "      <td>1</td>\n",
       "    </tr>\n",
       "    <tr>\n",
       "      <th>3</th>\n",
       "      <td>23</td>\n",
       "      <td>1</td>\n",
       "      <td>0</td>\n",
       "      <td>0</td>\n",
       "    </tr>\n",
       "    <tr>\n",
       "      <th>4</th>\n",
       "      <td>42</td>\n",
       "      <td>1</td>\n",
       "      <td>0</td>\n",
       "      <td>0</td>\n",
       "    </tr>\n",
       "    <tr>\n",
       "      <th>...</th>\n",
       "      <td>...</td>\n",
       "      <td>...</td>\n",
       "      <td>...</td>\n",
       "      <td>...</td>\n",
       "    </tr>\n",
       "    <tr>\n",
       "      <th>195</th>\n",
       "      <td>75</td>\n",
       "      <td>1</td>\n",
       "      <td>0</td>\n",
       "      <td>0</td>\n",
       "    </tr>\n",
       "    <tr>\n",
       "      <th>196</th>\n",
       "      <td>24</td>\n",
       "      <td>1</td>\n",
       "      <td>0</td>\n",
       "      <td>1</td>\n",
       "    </tr>\n",
       "    <tr>\n",
       "      <th>197</th>\n",
       "      <td>72</td>\n",
       "      <td>1</td>\n",
       "      <td>0</td>\n",
       "      <td>1</td>\n",
       "    </tr>\n",
       "    <tr>\n",
       "      <th>198</th>\n",
       "      <td>68</td>\n",
       "      <td>1</td>\n",
       "      <td>0</td>\n",
       "      <td>0</td>\n",
       "    </tr>\n",
       "    <tr>\n",
       "      <th>199</th>\n",
       "      <td>34</td>\n",
       "      <td>1</td>\n",
       "      <td>0</td>\n",
       "      <td>1</td>\n",
       "    </tr>\n",
       "  </tbody>\n",
       "</table>\n",
       "<p>200 rows × 4 columns</p>\n",
       "</div>"
      ],
      "text/plain": [
       "     AGE  RELATIONSHIP_STATUS_M  RELATIONSHIP_STATUS_U  GENDER_M\n",
       "0     22                      0                      1         1\n",
       "1     34                      1                      0         1\n",
       "2     30                      0                      1         1\n",
       "3     23                      1                      0         0\n",
       "4     42                      1                      0         0\n",
       "..   ...                    ...                    ...       ...\n",
       "195   75                      1                      0         0\n",
       "196   24                      1                      0         1\n",
       "197   72                      1                      0         1\n",
       "198   68                      1                      0         0\n",
       "199   34                      1                      0         1\n",
       "\n",
       "[200 rows x 4 columns]"
      ]
     },
     "execution_count": 28,
     "metadata": {},
     "output_type": "execute_result"
    }
   ],
   "source": [
    "df.drop('GENDER_F',axis=1)"
   ]
  },
  {
   "cell_type": "code",
   "execution_count": 31,
   "id": "aea51393",
   "metadata": {},
   "outputs": [
    {
     "name": "stdout",
     "output_type": "stream",
     "text": [
      "<class 'pandas.core.frame.DataFrame'>\n",
      "RangeIndex: 200 entries, 0 to 199\n",
      "Data columns (total 4 columns):\n",
      " #   Column                 Non-Null Count  Dtype\n",
      "---  ------                 --------------  -----\n",
      " 0   AGE                    200 non-null    int64\n",
      " 1   RELATIONSHIP_STATUS_M  200 non-null    uint8\n",
      " 2   GENDER_F               200 non-null    uint8\n",
      " 3   GENDER_M               200 non-null    uint8\n",
      "dtypes: int64(1), uint8(3)\n",
      "memory usage: 2.3 KB\n"
     ]
    }
   ],
   "source": [
    "df.info()"
   ]
  },
  {
   "cell_type": "code",
   "execution_count": 32,
   "id": "d7c82af0",
   "metadata": {},
   "outputs": [],
   "source": [
    "df = df.drop('GENDER_F',axis=1)"
   ]
  },
  {
   "cell_type": "code",
   "execution_count": 34,
   "id": "74662d7e",
   "metadata": {},
   "outputs": [
    {
     "name": "stdout",
     "output_type": "stream",
     "text": [
      "<class 'pandas.core.frame.DataFrame'>\n",
      "RangeIndex: 200 entries, 0 to 199\n",
      "Data columns (total 3 columns):\n",
      " #   Column                 Non-Null Count  Dtype\n",
      "---  ------                 --------------  -----\n",
      " 0   AGE                    200 non-null    int64\n",
      " 1   RELATIONSHIP_STATUS_M  200 non-null    uint8\n",
      " 2   GENDER_M               200 non-null    uint8\n",
      "dtypes: int64(1), uint8(2)\n",
      "memory usage: 2.1 KB\n"
     ]
    }
   ],
   "source": [
    "df.info()"
   ]
  },
  {
   "cell_type": "code",
   "execution_count": 35,
   "id": "9c383362",
   "metadata": {},
   "outputs": [
    {
     "name": "stdout",
     "output_type": "stream",
     "text": [
      "['AGE', 'GENDER_M']\n",
      "RELATIONSHIP_STATUS_M\n"
     ]
    }
   ],
   "source": [
    "inputc = [column for column in df.columns if column!='RELATIONSHIP_STATUS_M']\n",
    "output = 'RELATIONSHIP_STATUS_M'\n",
    "print(inputc)\n",
    "print(output)"
   ]
  },
  {
   "cell_type": "code",
   "execution_count": 33,
   "id": "a92f8f14",
   "metadata": {},
   "outputs": [
    {
     "name": "stdout",
     "output_type": "stream",
     "text": [
      "<class 'pandas.core.frame.DataFrame'>\n",
      "RangeIndex: 200 entries, 0 to 199\n",
      "Data columns (total 3 columns):\n",
      " #   Column                 Non-Null Count  Dtype\n",
      "---  ------                 --------------  -----\n",
      " 0   AGE                    200 non-null    int64\n",
      " 1   RELATIONSHIP_STATUS_M  200 non-null    uint8\n",
      " 2   GENDER_M               200 non-null    uint8\n",
      "dtypes: int64(1), uint8(2)\n",
      "memory usage: 2.1 KB\n"
     ]
    }
   ],
   "source": [
    "df.info()"
   ]
  },
  {
   "cell_type": "code",
   "execution_count": 38,
   "id": "29ed17c9",
   "metadata": {},
   "outputs": [
    {
     "data": {
      "text/plain": [
       "numpy.ndarray"
      ]
     },
     "execution_count": 38,
     "metadata": {},
     "output_type": "execute_result"
    }
   ],
   "source": [
    "x=df.loc[:,inputc].values\n",
    "y=df.loc[:,output].values\n",
    "type(x)"
   ]
  },
  {
   "cell_type": "code",
   "execution_count": 39,
   "id": "cb6499f4",
   "metadata": {},
   "outputs": [
    {
     "name": "stdout",
     "output_type": "stream",
     "text": [
      "(200, 2) (200,)\n"
     ]
    }
   ],
   "source": [
    "print(x.shape,y.shape)"
   ]
  },
  {
   "cell_type": "code",
   "execution_count": 40,
   "id": "b4a54eeb",
   "metadata": {},
   "outputs": [],
   "source": [
    "from sklearn.model_selection import train_test_split\n",
    "from sklearn.linear_model import LogisticRegression"
   ]
  },
  {
   "cell_type": "code",
   "execution_count": 41,
   "id": "2180786a",
   "metadata": {},
   "outputs": [],
   "source": [
    "x_t,x_te,y_t,y_te = train_test_split(x,y,test_size = 0.4,random_state = 100,stratify = y)"
   ]
  },
  {
   "cell_type": "code",
   "execution_count": 42,
   "id": "409a5bb7",
   "metadata": {},
   "outputs": [
    {
     "ename": "AttributeError",
     "evalue": "'numpy.ndarray' object has no attribute 'value_counts'",
     "output_type": "error",
     "traceback": [
      "\u001b[1;31m---------------------------------------------------------------------------\u001b[0m",
      "\u001b[1;31mAttributeError\u001b[0m                            Traceback (most recent call last)",
      "\u001b[1;32m<ipython-input-42-1552f345b0fe>\u001b[0m in \u001b[0;36m<module>\u001b[1;34m\u001b[0m\n\u001b[1;32m----> 1\u001b[1;33m \u001b[0my_t\u001b[0m\u001b[1;33m.\u001b[0m\u001b[0mvalue_counts\u001b[0m\u001b[1;33m(\u001b[0m\u001b[1;33m)\u001b[0m\u001b[1;33m\u001b[0m\u001b[1;33m\u001b[0m\u001b[0m\n\u001b[0m\u001b[0;32m      2\u001b[0m \u001b[0my_te\u001b[0m\u001b[1;33m.\u001b[0m\u001b[0mvalue_counts\u001b[0m\u001b[1;33m(\u001b[0m\u001b[1;33m)\u001b[0m\u001b[1;33m\u001b[0m\u001b[1;33m\u001b[0m\u001b[0m\n",
      "\u001b[1;31mAttributeError\u001b[0m: 'numpy.ndarray' object has no attribute 'value_counts'"
     ]
    }
   ],
   "source": [
    "y_t.value_counts()\n",
    "y_te.value_counts()"
   ]
  },
  {
   "cell_type": "code",
   "execution_count": 43,
   "id": "870492d1",
   "metadata": {},
   "outputs": [
    {
     "data": {
      "text/plain": [
       "(120, 2)"
      ]
     },
     "execution_count": 43,
     "metadata": {},
     "output_type": "execute_result"
    }
   ],
   "source": [
    "x_t.shape"
   ]
  },
  {
   "cell_type": "code",
   "execution_count": 45,
   "id": "f70fd917",
   "metadata": {},
   "outputs": [
    {
     "data": {
      "text/plain": [
       "86"
      ]
     },
     "execution_count": 45,
     "metadata": {},
     "output_type": "execute_result"
    }
   ],
   "source": [
    "np.sum(y_t)"
   ]
  },
  {
   "cell_type": "code",
   "execution_count": 46,
   "id": "4fbebf96",
   "metadata": {},
   "outputs": [
    {
     "data": {
      "text/plain": [
       "4933"
      ]
     },
     "execution_count": 46,
     "metadata": {},
     "output_type": "execute_result"
    }
   ],
   "source": [
    "np.sum(x_t)"
   ]
  },
  {
   "cell_type": "code",
   "execution_count": 11,
   "id": "b79192ef",
   "metadata": {},
   "outputs": [
    {
     "data": {
      "image/png": "[encoded data removed]",
      "text/plain": [
       "<Figure size 432x288 with 1 Axes>"
      ]
     },
     "metadata": {
      "needs_background": "light"
     },
     "output_type": "display_data"
    }
   ],
   "source": [
    "df.plot(x='AGE',y = 'PID1_STL',style='o')\n",
    "plt.title('STL VS AGE')\n",
    "plt.xlabel('AGE GROUP')\n",
    "plt.ylabel('STUDENT LOAN')\n",
    "plt.show()"
   ]
  },
  {
   "cell_type": "code",
   "execution_count": 47,
   "id": "9c236c0d",
   "metadata": {},
   "outputs": [],
   "source": [
    "lg = LogisticRegression().fit(x_t,y_t)"
   ]
  },
  {
   "cell_type": "code",
   "execution_count": 48,
   "id": "61b47f5d",
   "metadata": {},
   "outputs": [],
   "source": [
    "y_tp = lg.predict(x_t)\n",
    "y_tep = lg.predict(x_te)"
   ]
  },
  {
   "cell_type": "code",
   "execution_count": 57,
   "id": "b65041b7",
   "metadata": {},
   "outputs": [
    {
     "name": "stdout",
     "output_type": "stream",
     "text": [
      "['AGE' 'GENDER_M']\n",
      "[['AGE']\n",
      " ['GENDER_M']]\n"
     ]
    }
   ],
   "source": [
    "AGE = 34\n",
    "GENDER_M = 1\n",
    "t = np.array(['AGE','GENDER_M'])\n",
    "print(t)\n",
    "t=t.reshape(-1,1)\n",
    "print(t)"
   ]
  },
  {
   "cell_type": "code",
   "execution_count": 58,
   "id": "7e651fad",
   "metadata": {},
   "outputs": [
    {
     "data": {
      "text/plain": [
       "0.8916666666666667"
      ]
     },
     "execution_count": 58,
     "metadata": {},
     "output_type": "execute_result"
    }
   ],
   "source": [
    "metrics.accuracy_score(y_t,y_tp)"
   ]
  },
  {
   "cell_type": "code",
   "execution_count": 59,
   "id": "d2d4e765",
   "metadata": {},
   "outputs": [
    {
     "data": {
      "text/plain": [
       "0.8875"
      ]
     },
     "execution_count": 59,
     "metadata": {},
     "output_type": "execute_result"
    }
   ],
   "source": [
    "metrics.accuracy_score(y_te,y_tep)"
   ]
  },
  {
   "cell_type": "code",
   "execution_count": 60,
   "id": "c3f33ec8",
   "metadata": {},
   "outputs": [
    {
     "data": {
      "text/plain": [
       "0.8621751025991793"
      ]
     },
     "execution_count": 60,
     "metadata": {},
     "output_type": "execute_result"
    }
   ],
   "source": [
    "metrics.roc_auc_score(y_t,y_tp)"
   ]
  },
  {
   "cell_type": "code",
   "execution_count": 61,
   "id": "b9d593a9",
   "metadata": {},
   "outputs": [],
   "source": [
    "tc = metrics.confusion_matrix(y_t,y_tp)"
   ]
  },
  {
   "cell_type": "code",
   "execution_count": 62,
   "id": "1a3f824d",
   "metadata": {},
   "outputs": [
    {
     "name": "stdout",
     "output_type": "stream",
     "text": [
      "[[27  7]\n",
      " [ 6 80]]\n"
     ]
    }
   ],
   "source": [
    "print(tc)"
   ]
  },
  {
   "cell_type": "code",
   "execution_count": 63,
   "id": "b3df36c3",
   "metadata": {},
   "outputs": [
    {
     "data": {
      "text/plain": [
       "array([1, 1, 1, 0, 1, 1, 1, 1, 1, 1, 0, 1, 1, 1, 1, 0, 1, 1, 1, 1, 1, 0,\n",
       "       1, 1, 1, 1, 0, 1, 1, 1, 0, 1, 0, 1, 1, 1, 1, 1, 1, 1, 0, 0, 1, 1,\n",
       "       0, 0, 0, 1, 0, 1, 1, 0, 1, 0, 1, 1, 1, 1, 1, 1, 1, 0, 0, 1, 1, 1,\n",
       "       1, 1, 1, 1, 1, 1, 1, 1, 1, 0, 0, 1, 1, 0], dtype=uint8)"
      ]
     },
     "execution_count": 63,
     "metadata": {},
     "output_type": "execute_result"
    }
   ],
   "source": [
    "lg.predict(x_te)"
   ]
  },
  {
   "cell_type": "code",
   "execution_count": 64,
   "id": "1b0c1767",
   "metadata": {},
   "outputs": [
    {
     "data": {
      "text/plain": [
       "(80, 2)"
      ]
     },
     "execution_count": 64,
     "metadata": {},
     "output_type": "execute_result"
    }
   ],
   "source": [
    "x_te.shape"
   ]
  },
  {
   "cell_type": "code",
   "execution_count": 65,
   "id": "5d60d220",
   "metadata": {},
   "outputs": [
    {
     "name": "stdout",
     "output_type": "stream",
     "text": [
      "[[41  1]\n",
      " [38  1]\n",
      " [49  0]\n",
      " [19  0]\n",
      " [52  1]\n",
      " [44  1]\n",
      " [68  0]\n",
      " [30  1]\n",
      " [43  1]\n",
      " [43  1]\n",
      " [21  1]\n",
      " [40  1]\n",
      " [32  1]\n",
      " [30  1]\n",
      " [60  1]\n",
      " [24  0]\n",
      " [28  1]\n",
      " [50  1]\n",
      " [54  1]\n",
      " [36  0]\n",
      " [60  1]\n",
      " [20  1]\n",
      " [45  0]\n",
      " [45  0]\n",
      " [53  1]\n",
      " [55  1]\n",
      " [21  1]\n",
      " [65  0]\n",
      " [35  1]\n",
      " [56  0]\n",
      " [28  0]\n",
      " [42  1]\n",
      " [22  1]\n",
      " [58  1]\n",
      " [42  0]\n",
      " [45  1]\n",
      " [34  1]\n",
      " [61  1]\n",
      " [42  1]\n",
      " [62  1]\n",
      " [19  0]\n",
      " [29  0]\n",
      " [58  1]\n",
      " [37  1]\n",
      " [25  1]\n",
      " [22  1]\n",
      " [24  1]\n",
      " [61  1]\n",
      " [19  1]\n",
      " [39  1]\n",
      " [48  1]\n",
      " [19  0]\n",
      " [72  1]\n",
      " [23  1]\n",
      " [45  0]\n",
      " [46  1]\n",
      " [34  1]\n",
      " [40  1]\n",
      " [33  0]\n",
      " [74  0]\n",
      " [67  1]\n",
      " [21  0]\n",
      " [18  1]\n",
      " [69  1]\n",
      " [99  1]\n",
      " [49  1]\n",
      " [34  1]\n",
      " [47  1]\n",
      " [34  1]\n",
      " [58  0]\n",
      " [48  1]\n",
      " [31  0]\n",
      " [70  1]\n",
      " [50  1]\n",
      " [56  1]\n",
      " [30  0]\n",
      " [26  1]\n",
      " [53  0]\n",
      " [42  1]\n",
      " [25  1]]\n"
     ]
    }
   ],
   "source": [
    "print(x_te)"
   ]
  },
  {
   "cell_type": "code",
   "execution_count": 85,
   "id": "fdf97499",
   "metadata": {},
   "outputs": [
    {
     "name": "stdout",
     "output_type": "stream",
     "text": [
      "[[14  1]]\n"
     ]
    }
   ],
   "source": [
    "l = np.array([[14,1]])\n",
    "print(l)"
   ]
  },
  {
   "cell_type": "code",
   "execution_count": 83,
   "id": "5fed64c3",
   "metadata": {},
   "outputs": [
    {
     "data": {
      "text/plain": [
       "array([[14],\n",
       "       [ 1]])"
      ]
     },
     "execution_count": 83,
     "metadata": {},
     "output_type": "execute_result"
    }
   ],
   "source": [
    "l.reshape(-1,1)"
   ]
  },
  {
   "cell_type": "code",
   "execution_count": 84,
   "id": "eb671323",
   "metadata": {},
   "outputs": [
    {
     "data": {
      "text/plain": [
       "array([0], dtype=uint8)"
      ]
     },
     "execution_count": 84,
     "metadata": {},
     "output_type": "execute_result"
    }
   ],
   "source": [
    "lg.predict(l)"
   ]
  },
  {
   "cell_type": "code",
   "execution_count": 86,
   "id": "7d72fbc8",
   "metadata": {},
   "outputs": [
    {
     "data": {
      "text/plain": [
       "array([0], dtype=uint8)"
      ]
     },
     "execution_count": 86,
     "metadata": {},
     "output_type": "execute_result"
    }
   ],
   "source": [
    "lg.predict([[24,1]])"
   ]
  },
  {
   "cell_type": "code",
   "execution_count": 87,
   "id": "ff873667",
   "metadata": {},
   "outputs": [
    {
     "name": "stdout",
     "output_type": "stream",
     "text": [
      "<class 'pandas.core.frame.DataFrame'>\n",
      "RangeIndex: 200 entries, 0 to 199\n",
      "Data columns (total 3 columns):\n",
      " #   Column                 Non-Null Count  Dtype\n",
      "---  ------                 --------------  -----\n",
      " 0   AGE                    200 non-null    int64\n",
      " 1   RELATIONSHIP_STATUS_M  200 non-null    uint8\n",
      " 2   GENDER_M               200 non-null    uint8\n",
      "dtypes: int64(1), uint8(2)\n",
      "memory usage: 2.1 KB\n"
     ]
    }
   ],
   "source": [
    "df.info()"
   ]
  },
  {
   "cell_type": "code",
   "execution_count": 91,
   "id": "ab9c54ef",
   "metadata": {},
   "outputs": [
    {
     "data": {
      "text/plain": [
       "array([0], dtype=uint8)"
      ]
     },
     "execution_count": 91,
     "metadata": {},
     "output_type": "execute_result"
    }
   ],
   "source": [
    "lg.predict([[28,0]])"
   ]
  },
  {
   "cell_type": "code",
   "execution_count": null,
   "id": "175436c9",
   "metadata": {},
   "outputs": [],
   "source": []
  }
 ],
 "metadata": {
  "kernelspec": {
   "display_name": "Python 3",
   "language": "python",
   "name": "python3"
  },
  "language_info": {
   "codemirror_mode": {
    "name": "ipython",
    "version": 3
   },
   "file_extension": ".py",
   "mimetype": "text/x-python",
   "name": "python",
   "nbconvert_exporter": "python",
   "pygments_lexer": "ipython3",
   "version": "3.8.8"
  }
 },
 "nbformat": 4,
 "nbformat_minor": 5
}
