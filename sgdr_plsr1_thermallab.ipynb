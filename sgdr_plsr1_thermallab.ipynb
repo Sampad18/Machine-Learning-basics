{
 "cells": [
  {
   "cell_type": "code",
   "execution_count": 3,
   "id": "ac2eb10a",
   "metadata": {},
   "outputs": [],
   "source": [
    "from sklearn.linear_model import SGDRegressor\n",
    "from sklearn.datasets import load_boston\n",
    "from sklearn.datasets import make_regression\n",
    "from sklearn.metrics import mean_squared_error\n",
    "from sklearn.model_selection import train_test_split\n",
    "from sklearn.model_selection import cross_val_score\n",
    "from sklearn.preprocessing import scale\n",
    "import matplotlib.pyplot as plt\n",
    "import pandas as pd"
   ]
  },
  {
   "cell_type": "code",
   "execution_count": 4,
   "id": "c95844a1",
   "metadata": {},
   "outputs": [
    {
     "data": {
      "text/html": [
       "<div>\n",
       "<style scoped>\n",
       "    .dataframe tbody tr th:only-of-type {\n",
       "        vertical-align: middle;\n",
       "    }\n",
       "\n",
       "    .dataframe tbody tr th {\n",
       "        vertical-align: top;\n",
       "    }\n",
       "\n",
       "    .dataframe thead th {\n",
       "        text-align: right;\n",
       "    }\n",
       "</style>\n",
       "<table border=\"1\" class=\"dataframe\">\n",
       "  <thead>\n",
       "    <tr style=\"text-align: right;\">\n",
       "      <th></th>\n",
       "      <th>Mass rate</th>\n",
       "      <th>T</th>\n",
       "      <th>W</th>\n",
       "      <th>hao</th>\n",
       "      <th>Pao</th>\n",
       "    </tr>\n",
       "  </thead>\n",
       "  <tbody>\n",
       "    <tr>\n",
       "      <th>0</th>\n",
       "      <td>7.55</td>\n",
       "      <td>307.8</td>\n",
       "      <td>0.021</td>\n",
       "      <td>338.768360</td>\n",
       "      <td>1.453960</td>\n",
       "    </tr>\n",
       "    <tr>\n",
       "      <th>1</th>\n",
       "      <td>6.36</td>\n",
       "      <td>306.9</td>\n",
       "      <td>0.018</td>\n",
       "      <td>335.419116</td>\n",
       "      <td>1.344164</td>\n",
       "    </tr>\n",
       "    <tr>\n",
       "      <th>2</th>\n",
       "      <td>8.67</td>\n",
       "      <td>308.2</td>\n",
       "      <td>0.022</td>\n",
       "      <td>343.885040</td>\n",
       "      <td>1.520502</td>\n",
       "    </tr>\n",
       "    <tr>\n",
       "      <th>3</th>\n",
       "      <td>12.22</td>\n",
       "      <td>307.9</td>\n",
       "      <td>0.021</td>\n",
       "      <td>351.496540</td>\n",
       "      <td>1.643607</td>\n",
       "    </tr>\n",
       "    <tr>\n",
       "      <th>4</th>\n",
       "      <td>15.65</td>\n",
       "      <td>306.7</td>\n",
       "      <td>0.019</td>\n",
       "      <td>353.021473</td>\n",
       "      <td>1.733439</td>\n",
       "    </tr>\n",
       "  </tbody>\n",
       "</table>\n",
       "</div>"
      ],
      "text/plain": [
       "   Mass rate      T      W         hao       Pao\n",
       "0       7.55  307.8  0.021  338.768360  1.453960\n",
       "1       6.36  306.9  0.018  335.419116  1.344164\n",
       "2       8.67  308.2  0.022  343.885040  1.520502\n",
       "3      12.22  307.9  0.021  351.496540  1.643607\n",
       "4      15.65  306.7  0.019  353.021473  1.733439"
      ]
     },
     "execution_count": 4,
     "metadata": {},
     "output_type": "execute_result"
    }
   ],
   "source": [
    "df = pd.read_excel('D:/8th sem/Thermal lab/moddata.xlsx')\n",
    "df.head()"
   ]
  },
  {
   "cell_type": "code",
   "execution_count": null,
   "id": "ff5dec79",
   "metadata": {},
   "outputs": [],
   "source": []
  },
  {
   "cell_type": "code",
   "execution_count": null,
   "id": "ca690804",
   "metadata": {},
   "outputs": [],
   "source": []
  },
  {
   "cell_type": "code",
   "execution_count": null,
   "id": "9d991644",
   "metadata": {},
   "outputs": [],
   "source": []
  },
  {
   "cell_type": "code",
   "execution_count": null,
   "id": "a93cb868",
   "metadata": {},
   "outputs": [],
   "source": []
  },
  {
   "cell_type": "code",
   "execution_count": 5,
   "id": "b7f6781e",
   "metadata": {},
   "outputs": [],
   "source": [
    "from sklearn.preprocessing import MinMaxScaler"
   ]
  },
  {
   "cell_type": "code",
   "execution_count": 23,
   "id": "c7fba7d2",
   "metadata": {},
   "outputs": [
    {
     "name": "stdout",
     "output_type": "stream",
     "text": [
      "MinMaxScaler()\n"
     ]
    }
   ],
   "source": [
    "scaler = MinMaxScaler()\n",
    "print(scaler.fit(df[['Pao']]))"
   ]
  },
  {
   "cell_type": "code",
   "execution_count": 24,
   "id": "0ff1bdc7",
   "metadata": {},
   "outputs": [
    {
     "name": "stdout",
     "output_type": "stream",
     "text": [
      "[[-0.56326038  0.76429209]\n",
      " [-0.98724419 -0.56316259]\n",
      " [-0.1642168   1.20677698]\n",
      " [ 1.10060884  0.76429209]\n",
      " [ 2.32267982 -0.1206777 ]\n",
      " [ 1.18255529  0.76429209]\n",
      " [-0.56326038  1.20677698]\n",
      " [-0.59888927 -0.1206777 ]\n",
      " [-0.60601505 -0.56316259]\n",
      " [-0.59888927 -1.44813238]\n",
      " [-0.5240686  -1.89061727]]\n"
     ]
    }
   ],
   "source": [
    "x = df[['Mass rate','W']]\n",
    "x = scale(x)\n",
    "print(x)"
   ]
  },
  {
   "cell_type": "code",
   "execution_count": 25,
   "id": "2d229dcb",
   "metadata": {},
   "outputs": [
    {
     "name": "stdout",
     "output_type": "stream",
     "text": [
      "[1.73343932]\n"
     ]
    }
   ],
   "source": [
    "print(scaler.data_max_)"
   ]
  },
  {
   "cell_type": "code",
   "execution_count": 26,
   "id": "71063a64",
   "metadata": {},
   "outputs": [
    {
     "name": "stdout",
     "output_type": "stream",
     "text": [
      "[[0.28205128]\n",
      " [0.        ]\n",
      " [0.45299145]\n",
      " [0.76923077]\n",
      " [1.        ]\n",
      " [0.81196581]\n",
      " [0.39316239]\n",
      " [0.23931624]\n",
      " [0.18803419]\n",
      " [0.37606838]\n",
      " [0.39316239]]\n"
     ]
    }
   ],
   "source": [
    "print(scaler.transform(df[['Pao']]))"
   ]
  },
  {
   "cell_type": "code",
   "execution_count": 27,
   "id": "4f9d957b",
   "metadata": {
    "scrolled": true
   },
   "outputs": [
    {
     "name": "stdout",
     "output_type": "stream",
     "text": [
      "[[0.28205128]\n",
      " [0.        ]\n",
      " [0.45299145]\n",
      " [0.76923077]\n",
      " [1.        ]\n",
      " [0.81196581]\n",
      " [0.39316239]\n",
      " [0.23931624]\n",
      " [0.18803419]\n",
      " [0.37606838]\n",
      " [0.39316239]]\n"
     ]
    }
   ],
   "source": [
    "y=scaler.transform(df[['Pao']])\n",
    "print(y)"
   ]
  },
  {
   "cell_type": "code",
   "execution_count": 28,
   "id": "4f74f8d8",
   "metadata": {},
   "outputs": [
    {
     "name": "stdout",
     "output_type": "stream",
     "text": [
      "[[-0.54477305]\n",
      " [-0.95707377]\n",
      " [ 0.08510391]\n",
      " [ 1.02209968]\n",
      " [ 1.20982301]\n",
      " [ 2.29691746]\n",
      " [-0.55036268]\n",
      " [-0.5782047 ]\n",
      " [-0.83636929]\n",
      " [-0.59679789]\n",
      " [-0.55036268]]\n"
     ]
    }
   ],
   "source": [
    "y2 = scale(df[['hao']])\n",
    "print(y2)"
   ]
  },
  {
   "cell_type": "code",
   "execution_count": 29,
   "id": "acdebf86",
   "metadata": {
    "scrolled": true
   },
   "outputs": [
    {
     "name": "stdout",
     "output_type": "stream",
     "text": [
      "R-squared: 0.5630883407259986\n"
     ]
    },
    {
     "name": "stderr",
     "output_type": "stream",
     "text": [
      "C:\\Users\\HP\\anaconda3\\lib\\site-packages\\sklearn\\utils\\validation.py:63: DataConversionWarning: A column-vector y was passed when a 1d array was expected. Please change the shape of y to (n_samples, ), for example using ravel().\n",
      "  return f(*args, **kwargs)\n"
     ]
    }
   ],
   "source": [
    "sgdr = SGDRegressor()\n",
    "sgdr.fit(x, y)\n",
    "\n",
    "score = sgdr.score(x, y)\n",
    "print(\"R-squared:\", score)\n"
   ]
  },
  {
   "cell_type": "code",
   "execution_count": 30,
   "id": "5ad637a1",
   "metadata": {},
   "outputs": [
    {
     "name": "stdout",
     "output_type": "stream",
     "text": [
      "R2-squared: 0.7724316999434928\n"
     ]
    },
    {
     "name": "stderr",
     "output_type": "stream",
     "text": [
      "C:\\Users\\HP\\anaconda3\\lib\\site-packages\\sklearn\\utils\\validation.py:63: DataConversionWarning: A column-vector y was passed when a 1d array was expected. Please change the shape of y to (n_samples, ), for example using ravel().\n",
      "  return f(*args, **kwargs)\n"
     ]
    }
   ],
   "source": [
    "sgdr = SGDRegressor()\n",
    "sgdr.fit(x, y2)\n",
    "\n",
    "score = sgdr.score(x, y2)\n",
    "print(\"R2-squared:\", score)\n"
   ]
  },
  {
   "cell_type": "code",
   "execution_count": 31,
   "id": "4a592909",
   "metadata": {},
   "outputs": [
    {
     "name": "stdout",
     "output_type": "stream",
     "text": [
      "[[-0.20439997]\n",
      " [-0.75592239]\n",
      " [ 0.14630381]\n",
      " [ 0.87290425]\n",
      " [ 1.47948705]\n",
      " [ 0.92596206]\n",
      " [-0.11206466]\n",
      " [-0.4121392 ]\n",
      " [-0.50908824]\n",
      " [-0.68914514]\n",
      " [-0.73303636]]\n"
     ]
    }
   ],
   "source": [
    "ypred2 = sgdr.predict(x)\n",
    "ypred2 = ypred2.reshape(-1,1)\n",
    "print(ypred2)"
   ]
  },
  {
   "cell_type": "code",
   "execution_count": 32,
   "id": "fc493647",
   "metadata": {},
   "outputs": [
    {
     "name": "stdout",
     "output_type": "stream",
     "text": [
      "       0\n",
      "1.264596\n",
      "1.049902\n",
      "1.401117\n",
      "1.683964\n",
      "1.920092\n",
      "1.704618\n",
      "1.300540\n",
      "1.183728\n",
      "1.145989\n",
      "1.075897\n",
      "1.058811\n"
     ]
    }
   ],
   "source": [
    "opt = pd.DataFrame(scaler.inverse_transform(ypred2))\n",
    "print(opt.to_string(index=False))"
   ]
  },
  {
   "cell_type": "code",
   "execution_count": 33,
   "id": "35ea3169",
   "metadata": {},
   "outputs": [
    {
     "name": "stdout",
     "output_type": "stream",
     "text": [
      "MSE:  0.4294903326109768\n",
      "RMSE:  0.65535511946652\n"
     ]
    }
   ],
   "source": [
    "mse = mean_squared_error(y, ypred2)\n",
    "print(\"MSE: \", mse)\n",
    "print(\"RMSE: \", mse**(1/2.0)) "
   ]
  },
  {
   "cell_type": "code",
   "execution_count": 18,
   "id": "4424b613",
   "metadata": {},
   "outputs": [
    {
     "data": {
      "image/png": "[encoded data removed]",
      "text/plain": [
       "<Figure size 432x288 with 1 Axes>"
      ]
     },
     "metadata": {
      "needs_background": "light"
     },
     "output_type": "display_data"
    }
   ],
   "source": [
    "x_ax = range(len(y))\n",
    "plt.plot(x_ax, y, label=\"original\")\n",
    "plt.plot(x_ax, ypred2, label=\"predicted\")\n",
    "plt.title(\"Actual VS predicted data\")\n",
    "plt.xlabel('X-axis')\n",
    "plt.ylabel('Y-axis')\n",
    "plt.legend(loc='best',fancybox=True, shadow=True)\n",
    "plt.grid(True)\n",
    "plt.show()"
   ]
  },
  {
   "cell_type": "code",
   "execution_count": 34,
   "id": "7c36e397",
   "metadata": {},
   "outputs": [],
   "source": [
    "from sklearn.cross_decomposition import PLSRegression"
   ]
  },
  {
   "cell_type": "code",
   "execution_count": 36,
   "id": "ba84423a",
   "metadata": {},
   "outputs": [
    {
     "name": "stdout",
     "output_type": "stream",
     "text": [
      "R-squared: 0.9108929766613114\n"
     ]
    }
   ],
   "source": [
    "pls1 = PLSRegression()\n",
    "pls1.fit(x,y)\n",
    "score = pls1.score(x, y)\n",
    "print(\"R-squared:\", score)"
   ]
  },
  {
   "cell_type": "code",
   "execution_count": 37,
   "id": "bf29ba05",
   "metadata": {},
   "outputs": [
    {
     "name": "stdout",
     "output_type": "stream",
     "text": [
      "[[0.30134318]\n",
      " [0.17532547]\n",
      " [0.41268346]\n",
      " [0.74898125]\n",
      " [1.06979273]\n",
      " [0.77102766]\n",
      " [0.30532701]\n",
      " [0.28379013]\n",
      " [0.27788922]\n",
      " [0.27183864]\n",
      " [0.28798415]]\n"
     ]
    }
   ],
   "source": [
    "z = pls1.predict(x)\n",
    "z = z.reshape(-1,1)\n",
    "print(z)"
   ]
  },
  {
   "cell_type": "code",
   "execution_count": 39,
   "id": "883860a7",
   "metadata": {},
   "outputs": [
    {
     "name": "stdout",
     "output_type": "stream",
     "text": [
      "       0\n",
      "1.461470\n",
      "1.412414\n",
      "1.504812\n",
      "1.635724\n",
      "1.760608\n",
      "1.644306\n",
      "1.463020\n",
      "1.454637\n",
      "1.452339\n",
      "1.449984\n",
      "1.456269\n"
     ]
    }
   ],
   "source": [
    "out2 = pd.DataFrame(scaler.inverse_transform(z))\n",
    "print(out2.to_string(index=False))"
   ]
  },
  {
   "cell_type": "code",
   "execution_count": 40,
   "id": "dc3d4f16",
   "metadata": {},
   "outputs": [
    {
     "data": {
      "image/png": "[encoded data removed]",
      "text/plain": [
       "<Figure size 432x288 with 1 Axes>"
      ]
     },
     "metadata": {
      "needs_background": "light"
     },
     "output_type": "display_data"
    }
   ],
   "source": [
    "x_ax = range(len(y))\n",
    "plt.plot(x_ax, y, label=\"original\")\n",
    "plt.plot(x_ax, z, label=\"predicted\")\n",
    "plt.title(\"Actual VS predicted data\")\n",
    "plt.xlabel('X-axis')\n",
    "plt.ylabel('Y-axis')\n",
    "plt.legend(loc='best',fancybox=True, shadow=True)\n",
    "plt.grid(True)\n",
    "plt.show()"
   ]
  },
  {
   "cell_type": "code",
   "execution_count": null,
   "id": "fcfc49c1",
   "metadata": {},
   "outputs": [],
   "source": []
  }
 ],
 "metadata": {
  "kernelspec": {
   "display_name": "Python 3",
   "language": "python",
   "name": "python3"
  },
  "language_info": {
   "codemirror_mode": {
    "name": "ipython",
    "version": 3
   },
   "file_extension": ".py",
   "mimetype": "text/x-python",
   "name": "python",
   "nbconvert_exporter": "python",
   "pygments_lexer": "ipython3",
   "version": "3.8.8"
  }
 },
 "nbformat": 4,
 "nbformat_minor": 5
}
